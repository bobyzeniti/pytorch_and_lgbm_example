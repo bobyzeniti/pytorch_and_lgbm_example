{
 "cells": [
  {
   "cell_type": "code",
   "execution_count": 3,
   "id": "71cb8435",
   "metadata": {
    "execution": {
     "iopub.execute_input": "2023-12-20T23:46:14.803643Z",
     "iopub.status.busy": "2023-12-20T23:46:14.802724Z",
     "iopub.status.idle": "2023-12-20T23:46:30.345082Z",
     "shell.execute_reply": "2023-12-20T23:46:30.344011Z"
    },
    "papermill": {
     "duration": 15.560415,
     "end_time": "2023-12-20T23:46:30.347399",
     "exception": false,
     "start_time": "2023-12-20T23:46:14.786984",
     "status": "completed"
    },
    "tags": []
   },
   "outputs": [
    {
     "name": "stderr",
     "output_type": "stream",
     "text": [
      "/opt/conda/lib/python3.10/site-packages/scipy/__init__.py:146: UserWarning: A NumPy version >=1.16.5 and <1.23.0 is required for this version of SciPy (detected version 1.24.3\n",
      "  warnings.warn(f\"A NumPy version >={np_minversion} and <{np_maxversion}\"\n"
     ]
    },
    {
     "name": "stdout",
     "output_type": "stream",
     "text": [
      "--- Setup complete ---\n"
     ]
    }
   ],
   "source": [
    "### Dataframes, linear algebra and visualization:\n",
    "import pandas as pd\n",
    "import numpy as np\n",
    "import seaborn as sns\n",
    "import matplotlib.pyplot as plt\n",
    "\n",
    "\n",
    "### Sklearn:\n",
    "from sklearn.model_selection import cross_val_score, train_test_split\n",
    "from sklearn.impute import SimpleImputer\n",
    "from sklearn.metrics import mean_absolute_error\n",
    "from sklearn.preprocessing import StandardScaler\n",
    "\n",
    "### Gradient Boosted CARTs:\n",
    "import lightgbm as lgbm\n",
    "\n",
    "#PyTorch \n",
    "from torch.utils.data import DataLoader, Dataset\n",
    "import torch.nn as nn\n",
    "import torch.nn.functional as F\n",
    "import torch\n",
    "import torch.optim as optim\n",
    "import torch.nn.init as init\n",
    "\n",
    "#SHAP\n",
    "import shap\n",
    "\n",
    "print(\"--- Setup complete ---\")"
   ]
  },
  {
   "cell_type": "code",
   "execution_count": 4,
   "id": "40acfb17",
   "metadata": {
    "execution": {
     "iopub.execute_input": "2023-12-20T23:46:30.380106Z",
     "iopub.status.busy": "2023-12-20T23:46:30.379492Z",
     "iopub.status.idle": "2023-12-20T23:46:30.386057Z",
     "shell.execute_reply": "2023-12-20T23:46:30.385236Z"
    },
    "papermill": {
     "duration": 0.025162,
     "end_time": "2023-12-20T23:46:30.387949",
     "exception": false,
     "start_time": "2023-12-20T23:46:30.362787",
     "status": "completed"
    },
    "tags": []
   },
   "outputs": [],
   "source": [
    "### PyTorch dataloading class:\n",
    "class DataloaderTorch(Dataset):\n",
    "    def __init__(self, dataframe):\n",
    "        super().__init__()\n",
    "\n",
    "        # Convert data to a NumPy array and assign to self.data\n",
    "        #self.data = dataframe.to_numpy()\n",
    "        self.data = dataframe\n",
    "        \n",
    "    # Implement __len__ to return the number of data samples\n",
    "    def __len__(self):\n",
    "        return self.data.shape[0]\n",
    "    \n",
    "    #Here we are assuming the target will be the last column:\n",
    "    def __getitem__(self, idx):\n",
    "        features = self.data[idx, :-1]\n",
    "        # Assign last data column to label\n",
    "        label = self.data[idx, -1]\n",
    "        return features, label"
   ]
  },
  {
   "cell_type": "code",
   "execution_count": 5,
   "id": "0bebf720",
   "metadata": {
    "execution": {
     "iopub.execute_input": "2023-12-20T23:46:30.418085Z",
     "iopub.status.busy": "2023-12-20T23:46:30.417808Z",
     "iopub.status.idle": "2023-12-20T23:46:30.520366Z",
     "shell.execute_reply": "2023-12-20T23:46:30.519374Z"
    },
    "papermill": {
     "duration": 0.11965,
     "end_time": "2023-12-20T23:46:30.522414",
     "exception": false,
     "start_time": "2023-12-20T23:46:30.402764",
     "status": "completed"
    },
    "tags": []
   },
   "outputs": [
    {
     "name": "stdout",
     "output_type": "stream",
     "text": [
      "Using cuda device\n"
     ]
    }
   ],
   "source": [
    "device = (\n",
    "    \"cuda\"\n",
    "    if torch.cuda.is_available()\n",
    "    else \"mps\"\n",
    "    if torch.backends.mps.is_available()\n",
    "    else \"cpu\"\n",
    ")\n",
    "print(f\"Using {device} device\")"
   ]
  },
  {
   "cell_type": "code",
   "execution_count": 6,
   "id": "bcd2c5b0",
   "metadata": {
    "execution": {
     "iopub.execute_input": "2023-12-20T23:46:30.553382Z",
     "iopub.status.busy": "2023-12-20T23:46:30.553043Z",
     "iopub.status.idle": "2023-12-20T23:46:30.562898Z",
     "shell.execute_reply": "2023-12-20T23:46:30.561927Z"
    },
    "papermill": {
     "duration": 0.027733,
     "end_time": "2023-12-20T23:46:30.565124",
     "exception": false,
     "start_time": "2023-12-20T23:46:30.537391",
     "status": "completed"
    },
    "tags": []
   },
   "outputs": [],
   "source": [
    "### DNN architecture:\n",
    "\n",
    "class DNN(nn.Module):\n",
    "    def __init__(self):\n",
    "        super(DNN, self).__init__()\n",
    "        # Linear Layers\n",
    "        self.fc1 = nn.Linear(8, 20)\n",
    "        self.fc2 = nn.Linear(20, 10)\n",
    "        self.fc3 = nn.Linear(10, 5)\n",
    "        self.fc4 = nn.Linear(5,1)\n",
    "        \n",
    "        #Add batch normalization layers (improve vanishing gradients):\n",
    "        self.bn1 = nn.BatchNorm1d(20)\n",
    "        self.bn2 = nn.BatchNorm1d(10)\n",
    "        self.bn3 = nn.BatchNorm1d(5)\n",
    "        \n",
    "        #He/Kaiming initialization (avoid vaninshing gradients)\n",
    "        init.kaiming_uniform_(self.fc1.weight)\n",
    "        init.kaiming_uniform_(self.fc2.weight)\n",
    "        init.kaiming_uniform_(self.fc3.weight)\n",
    "        init.kaiming_uniform_(self.fc4.weight)\n",
    "        \n",
    "    def forward(self, x):\n",
    "        # Pass x through linear layers adding ELU activations\n",
    "        x = x.to(torch.float32) #Convert to torch-float32\n",
    "        \n",
    "        x = self.fc1(x)\n",
    "        x = self.bn1(x)\n",
    "        x = nn.functional.elu(x)\n",
    "\n",
    "        x = self.fc2(x)\n",
    "        x = self.bn2(x)\n",
    "        x = nn.functional.elu(x)\n",
    "        \n",
    "        x = self.fc3(x)\n",
    "        x = self.bn3(x)\n",
    "        x = nn.functional.elu(x)\n",
    "\n",
    "        x = self.fc4(x)\n",
    "        return x"
   ]
  },
  {
   "cell_type": "code",
   "execution_count": 7,
   "id": "7fcaf168",
   "metadata": {
    "execution": {
     "iopub.execute_input": "2023-12-20T23:46:30.595313Z",
     "iopub.status.busy": "2023-12-20T23:46:30.594991Z",
     "iopub.status.idle": "2023-12-20T23:46:49.244096Z",
     "shell.execute_reply": "2023-12-20T23:46:49.242992Z"
    },
    "papermill": {
     "duration": 18.667529,
     "end_time": "2023-12-20T23:46:49.247020",
     "exception": false,
     "start_time": "2023-12-20T23:46:30.579491",
     "status": "completed"
    },
    "tags": []
   },
   "outputs": [],
   "source": [
    "### Importing the training dataset\n",
    "df = pd.read_csv(\"/folder/xyz.csv\")"
   ]
  },
  {
   "cell_type": "code",
   "execution_count": 8,
   "id": "ac0d21a2",
   "metadata": {
    "execution": {
     "iopub.execute_input": "2023-12-20T23:46:49.279799Z",
     "iopub.status.busy": "2023-12-20T23:46:49.279441Z",
     "iopub.status.idle": "2023-12-20T23:46:49.529444Z",
     "shell.execute_reply": "2023-12-20T23:46:49.528397Z"
    },
    "papermill": {
     "duration": 0.269096,
     "end_time": "2023-12-20T23:46:49.531844",
     "exception": false,
     "start_time": "2023-12-20T23:46:49.262748",
     "status": "completed"
    },
    "tags": []
   },
   "outputs": [],
   "source": [
    "df.head()\n",
    "#df_reduced = df.iloc[0:1000, :]\n",
    "df_reduced = df.copy()"
   ]
  },
  {
   "cell_type": "markdown",
   "id": "5170ba1b",
   "metadata": {
    "papermill": {
     "duration": 0.014333,
     "end_time": "2023-12-20T23:46:49.560852",
     "exception": false,
     "start_time": "2023-12-20T23:46:49.546519",
     "status": "completed"
    },
    "tags": []
   },
   "source": [
    "### Reduce memory usage:"
   ]
  },
  {
   "cell_type": "code",
   "execution_count": 9,
   "id": "30bde057",
   "metadata": {
    "execution": {
     "iopub.execute_input": "2023-12-20T23:46:49.592037Z",
     "iopub.status.busy": "2023-12-20T23:46:49.591722Z",
     "iopub.status.idle": "2023-12-20T23:46:49.604725Z",
     "shell.execute_reply": "2023-12-20T23:46:49.603792Z"
    },
    "papermill": {
     "duration": 0.031372,
     "end_time": "2023-12-20T23:46:49.606694",
     "exception": false,
     "start_time": "2023-12-20T23:46:49.575322",
     "status": "completed"
    },
    "tags": []
   },
   "outputs": [],
   "source": [
    "# Function to reduce memory usage of a Pandas DataFrame\n",
    "def reduce_mem_usage(df, verbose=0):\n",
    "    \"\"\"\n",
    "    Iterate through all numeric columns of a dataframe and modify the data type\n",
    "    to reduce memory usage.\n",
    "    \"\"\"\n",
    "    \n",
    "    # Calculate the initial memory usage of the DataFrame\n",
    "    start_mem = df.memory_usage().sum() / 1024**2\n",
    "\n",
    "    # Iterate through each column in the DataFrame\n",
    "    for col in df.columns:\n",
    "        col_type = df[col].dtype\n",
    "\n",
    "        # Check if the column's data type is not 'object' (i.e., numeric)\n",
    "        if col_type != object:\n",
    "            c_min = df[col].min()\n",
    "            c_max = df[col].max()\n",
    "            \n",
    "            # Check if the column's data type is an integer\n",
    "            if str(col_type)[:3] == \"int\":\n",
    "                if c_min > np.iinfo(np.int8).min and c_max < np.iinfo(np.int8).max:\n",
    "                    df[col] = df[col].astype(np.int8)\n",
    "                elif c_min > np.iinfo(np.int16).min and c_max < np.iinfo(np.int16).max:\n",
    "                    df[col] = df[col].astype(np.int16)\n",
    "                elif c_min > np.iinfo(np.int32).min and c_max < np.iinfo(np.int32).max:\n",
    "                    df[col] = df[col].astype(np.int32)\n",
    "                elif c_min > np.iinfo(np.int64).min and c_max < np.iinfo(np.int64).max:\n",
    "                    df[col] = df[col].astype(np.int64)\n",
    "            else:\n",
    "                # Check if the column's data type is a float\n",
    "                if c_min > np.finfo(np.float16).min and c_max < np.finfo(np.float16).max:\n",
    "                    df[col] = df[col].astype(np.float32)\n",
    "                elif c_min > np.finfo(np.float32).min and c_max < np.finfo(np.float32).max:\n",
    "                    df[col] = df[col].astype(np.float32)\n",
    "                else:\n",
    "                    df[col] = df[col].astype(np.float32)\n",
    "\n",
    "    # Provide memory optimization information if 'verbose' is True\n",
    "    if verbose:\n",
    "        logger.info(f\"Memory usage of dataframe is {start_mem:.2f} MB\")\n",
    "        end_mem = df.memory_usage().sum() / 1024**2\n",
    "        logger.info(f\"Memory usage after optimization is: {end_mem:.2f} MB\")\n",
    "        decrease = 100 * (start_mem - end_mem) / start_mem\n",
    "        logger.info(f\"Decreased by {decrease:.2f}%\")\n",
    "\n",
    "    # Return the DataFrame with optimized memory usage\n",
    "    return df"
   ]
  },
  {
   "cell_type": "code",
   "execution_count": 10,
   "id": "b00a93fd",
   "metadata": {
    "execution": {
     "iopub.execute_input": "2023-12-20T23:46:49.680354Z",
     "iopub.status.busy": "2023-12-20T23:46:49.679966Z",
     "iopub.status.idle": "2023-12-20T23:46:50.296552Z",
     "shell.execute_reply": "2023-12-20T23:46:50.295725Z"
    },
    "papermill": {
     "duration": 0.63527,
     "end_time": "2023-12-20T23:46:50.298924",
     "exception": false,
     "start_time": "2023-12-20T23:46:49.663654",
     "status": "completed"
    },
    "tags": []
   },
   "outputs": [],
   "source": [
    "df_reduced = reduce_mem_usage(df_reduced)"
   ]
  },
  {
   "cell_type": "markdown",
   "id": "0527aa34",
   "metadata": {
    "papermill": {
     "duration": 0.015317,
     "end_time": "2023-12-20T23:46:50.329681",
     "exception": false,
     "start_time": "2023-12-20T23:46:50.314364",
     "status": "completed"
    },
    "tags": []
   },
   "source": [
    "## Exploratory Data Analysis "
   ]
  },
  {
   "cell_type": "code",
   "execution_count": 11,
   "id": "6abc81f6",
   "metadata": {
    "execution": {
     "iopub.execute_input": "2023-12-20T23:46:50.361763Z",
     "iopub.status.busy": "2023-12-20T23:46:50.361057Z",
     "iopub.status.idle": "2023-12-20T23:46:50.366795Z",
     "shell.execute_reply": "2023-12-20T23:46:50.365837Z"
    },
    "papermill": {
     "duration": 0.024177,
     "end_time": "2023-12-20T23:46:50.368929",
     "exception": false,
     "start_time": "2023-12-20T23:46:50.344752",
     "status": "completed"
    },
    "tags": []
   },
   "outputs": [
    {
     "name": "stdout",
     "output_type": "stream",
     "text": [
      "Train Dataset has 16 features\n",
      "Train Dataset has 5237980 rows\n"
     ]
    }
   ],
   "source": [
    "print(\"Train Dataset has {} features\".format(df.shape[1]-1))\n",
    "print(\"Train Dataset has {} rows\".format(df.shape[0]))"
   ]
  },
  {
   "cell_type": "code",
   "execution_count": 12,
   "id": "3817ccf6",
   "metadata": {
    "execution": {
     "iopub.execute_input": "2023-12-20T23:46:50.399673Z",
     "iopub.status.busy": "2023-12-20T23:46:50.399369Z",
     "iopub.status.idle": "2023-12-20T23:46:50.463458Z",
     "shell.execute_reply": "2023-12-20T23:46:50.462479Z"
    },
    "papermill": {
     "duration": 0.081771,
     "end_time": "2023-12-20T23:46:50.465538",
     "exception": false,
     "start_time": "2023-12-20T23:46:50.383767",
     "status": "completed"
    },
    "tags": []
   },
   "outputs": [
    {
     "name": "stdout",
     "output_type": "stream",
     "text": [
      "200 different stocks\n",
      "26455 different time_ids\n"
     ]
    }
   ],
   "source": [
    "### Number of different stock_ids:\n",
    "print(\"{} different stocks\".format(len(df['stock_id'].unique())))\n",
    "print(\"{} different time_ids\".format(len(df['time_id'].unique())))"
   ]
  },
  {
   "cell_type": "code",
   "execution_count": 13,
   "id": "08213545",
   "metadata": {
    "execution": {
     "iopub.execute_input": "2023-12-20T23:46:50.497344Z",
     "iopub.status.busy": "2023-12-20T23:46:50.496793Z",
     "iopub.status.idle": "2023-12-20T23:46:50.505382Z",
     "shell.execute_reply": "2023-12-20T23:46:50.504502Z"
    },
    "papermill": {
     "duration": 0.027027,
     "end_time": "2023-12-20T23:46:50.507370",
     "exception": false,
     "start_time": "2023-12-20T23:46:50.480343",
     "status": "completed"
    },
    "tags": []
   },
   "outputs": [
    {
     "data": {
      "text/plain": [
       "0              0\n",
       "1              0\n",
       "2              0\n",
       "3              0\n",
       "4              0\n",
       "           ...  \n",
       "5237975    26454\n",
       "5237976    26454\n",
       "5237977    26454\n",
       "5237978    26454\n",
       "5237979    26454\n",
       "Name: time_id, Length: 5237980, dtype: int64"
      ]
     },
     "execution_count": 13,
     "metadata": {},
     "output_type": "execute_result"
    }
   ],
   "source": [
    "df['time_id']"
   ]
  },
  {
   "cell_type": "code",
   "execution_count": 14,
   "id": "45ba6518",
   "metadata": {
    "execution": {
     "iopub.execute_input": "2023-12-20T23:46:50.539723Z",
     "iopub.status.busy": "2023-12-20T23:46:50.539440Z",
     "iopub.status.idle": "2023-12-20T23:46:50.546388Z",
     "shell.execute_reply": "2023-12-20T23:46:50.545491Z"
    },
    "papermill": {
     "duration": 0.024966,
     "end_time": "2023-12-20T23:46:50.548366",
     "exception": false,
     "start_time": "2023-12-20T23:46:50.523400",
     "status": "completed"
    },
    "tags": []
   },
   "outputs": [
    {
     "data": {
      "text/plain": [
       "stock_id                     int64\n",
       "date_id                      int64\n",
       "seconds_in_bucket            int64\n",
       "imbalance_size             float64\n",
       "imbalance_buy_sell_flag      int64\n",
       "reference_price            float64\n",
       "matched_size               float64\n",
       "far_price                  float64\n",
       "near_price                 float64\n",
       "bid_price                  float64\n",
       "bid_size                   float64\n",
       "ask_price                  float64\n",
       "ask_size                   float64\n",
       "wap                        float64\n",
       "target                     float64\n",
       "time_id                      int64\n",
       "row_id                      object\n",
       "dtype: object"
      ]
     },
     "execution_count": 14,
     "metadata": {},
     "output_type": "execute_result"
    }
   ],
   "source": [
    "df.dtypes"
   ]
  },
  {
   "cell_type": "code",
   "execution_count": 15,
   "id": "cacf952a",
   "metadata": {
    "execution": {
     "iopub.execute_input": "2023-12-20T23:46:50.580514Z",
     "iopub.status.busy": "2023-12-20T23:46:50.580266Z",
     "iopub.status.idle": "2023-12-20T23:46:51.174227Z",
     "shell.execute_reply": "2023-12-20T23:46:51.173255Z"
    },
    "papermill": {
     "duration": 0.612585,
     "end_time": "2023-12-20T23:46:51.176380",
     "exception": false,
     "start_time": "2023-12-20T23:46:50.563795",
     "status": "completed"
    },
    "tags": []
   },
   "outputs": [
    {
     "data": {
      "text/plain": [
       "far_price                  2894342\n",
       "near_price                 2857180\n",
       "ask_price                      220\n",
       "imbalance_size                 220\n",
       "reference_price                220\n",
       "matched_size                   220\n",
       "wap                            220\n",
       "bid_price                      220\n",
       "target                          88\n",
       "time_id                          0\n",
       "ask_size                         0\n",
       "stock_id                         0\n",
       "bid_size                         0\n",
       "date_id                          0\n",
       "imbalance_buy_sell_flag          0\n",
       "seconds_in_bucket                0\n",
       "row_id                           0\n",
       "dtype: int64"
      ]
     },
     "execution_count": 15,
     "metadata": {},
     "output_type": "execute_result"
    }
   ],
   "source": [
    "### Features with NaNs:\n",
    "df.isna().sum().sort_values(ascending = False)"
   ]
  },
  {
   "cell_type": "markdown",
   "id": "20146d71",
   "metadata": {
    "papermill": {
     "duration": 0.015478,
     "end_time": "2023-12-20T23:46:51.417832",
     "exception": false,
     "start_time": "2023-12-20T23:46:51.402354",
     "status": "completed"
    },
    "tags": []
   },
   "source": [
    "## Data preprocessing"
   ]
  },
  {
   "cell_type": "code",
   "execution_count": 17,
   "id": "617d40e3",
   "metadata": {
    "execution": {
     "iopub.execute_input": "2023-12-20T23:46:51.451047Z",
     "iopub.status.busy": "2023-12-20T23:46:51.450518Z",
     "iopub.status.idle": "2023-12-20T23:46:51.690163Z",
     "shell.execute_reply": "2023-12-20T23:46:51.689150Z"
    },
    "papermill": {
     "duration": 0.258728,
     "end_time": "2023-12-20T23:46:51.692418",
     "exception": false,
     "start_time": "2023-12-20T23:46:51.433690",
     "status": "completed"
    },
    "tags": []
   },
   "outputs": [
    {
     "data": {
      "text/plain": [
       "imbalance_size    220\n",
       "matched_size      220\n",
       "bid_price         220\n",
       "ask_price         220\n",
       "wap               220\n",
       "target             88\n",
       "stock_id            0\n",
       "date_id             0\n",
       "ask_size            0\n",
       "time_id             0\n",
       "dtype: int64"
      ]
     },
     "execution_count": 17,
     "metadata": {},
     "output_type": "execute_result"
    }
   ],
   "source": [
    "### Pre-processing functions (1) - Dropping columns with high number of NaN and the ones that SHAP and LGBM feature importance\n",
    "### detected as not important:\n",
    "def drop_cols(dataframe):\n",
    "    id_col = dataframe['row_id']\n",
    "    df = dataframe.drop(['far_price', 'near_price', 'row_id', 'seconds_in_bucket', 'imbalance_buy_sell_flag', 'bid_size', 'reference_price'], axis = 1)\n",
    "    return id_col, df\n",
    "\n",
    "\n",
    "### Drop the categorical row_id variable, and far_price,and near_price that have too many NaN values:\n",
    "#id_col, df_processed = drop_cols(df)\n",
    "id_col, df_processed = drop_cols(df_reduced)\n",
    "\n",
    "df_processed.isna().sum().sort_values(ascending = False)"
   ]
  },
  {
   "cell_type": "code",
   "execution_count": 18,
   "id": "8c472459",
   "metadata": {
    "execution": {
     "iopub.execute_input": "2023-12-20T23:46:51.728485Z",
     "iopub.status.busy": "2023-12-20T23:46:51.728117Z",
     "iopub.status.idle": "2023-12-20T23:46:52.239620Z",
     "shell.execute_reply": "2023-12-20T23:46:52.238630Z"
    },
    "papermill": {
     "duration": 0.532174,
     "end_time": "2023-12-20T23:46:52.242045",
     "exception": false,
     "start_time": "2023-12-20T23:46:51.709871",
     "status": "completed"
    },
    "tags": []
   },
   "outputs": [],
   "source": [
    "### Pre-processing functions (2) - Imputing mean values:\n",
    "def imputer(df_processed):\n",
    "    '''\n",
    "    Function that receives a dataframe and returns the mean/mode value of each missing value in a column partitioned by stock_id,\n",
    "    '''\n",
    "    stock_list = list(df_processed['stock_id'].unique())\n",
    "\n",
    "    for stock in stock_list:\n",
    "        stock_df = df_processed.loc[df_processed['stock_id'] == stock]\n",
    "        imp_mean_imbalance_size = SimpleImputer(missing_values=np.nan, strategy='mean') #Instantiate SimpleImputer with mean strategy\n",
    "#         imp_mean_reference_price = SimpleImputer(missing_values=np.nan, strategy='mean')\n",
    "        imp_mean_matched_size = SimpleImputer(missing_values=np.nan, strategy='mean')\n",
    "        imp_mean_bid_price = SimpleImputer(missing_values=np.nan, strategy='mean')\n",
    "        imp_mean_ask_price = SimpleImputer(missing_values=np.nan, strategy='mean')\n",
    "        imp_mean_wap = SimpleImputer(missing_values=np.nan, strategy='mean')\n",
    "        imp_mean_target = SimpleImputer(missing_values=np.nan, strategy='mean')\n",
    "#         imp_mean_seconds_in_bucket = SimpleImputer(missing_values=np.nan, strategy='mean')\n",
    "#         imp_mean_imbalance_buy_sell_flag = SimpleImputer(missing_values=np.nan, strategy='mode')\n",
    "#         imp_mean_bid_size = SimpleImputer(missing_values=np.nan, strategy='mean')\n",
    "        imp_mean_ask_size = SimpleImputer(missing_values=np.nan, strategy='mean')\n",
    "\n",
    "        df_processed['imbalance_size'] = imp_mean_imbalance_size.fit_transform(np.array(df_processed['imbalance_size']).reshape(-1,1))\n",
    "        #df_processed['reference_price'] = imp_mean_reference_price.fit_transform(np.array(df_processed['reference_price']).reshape(-1,1))\n",
    "        df_processed['matched_size'] = imp_mean_matched_size.fit_transform(np.array(df_processed['matched_size']).reshape(-1,1))\n",
    "        df_processed['bid_price'] = imp_mean_bid_price.fit_transform(np.array(df_processed['bid_price']).reshape(-1,1))\n",
    "        df_processed['ask_price'] = imp_mean_ask_price.fit_transform(np.array(df_processed['ask_price']).reshape(-1,1))\n",
    "        df_processed['wap'] = imp_mean_wap.fit_transform(np.array(df_processed['wap']).reshape(-1,1))\n",
    "        df_processed['target'] = imp_mean_target.fit_transform(np.array(df_processed['target']).reshape(-1,1))\n",
    "        #df_processed['seconds_in_bucket'] = imp_mean_seconds_in_bucket.fit_transform(np.array(df_processed['seconds_in_bucket']).reshape(-1,1))\n",
    "        #df_processed['bid_size'] = imp_mean_bid_size.fit_transform(np.array(df_processed['bid_size']).reshape(-1,1))\n",
    "        df_processed['ask_size'] = imp_mean_ask_size.fit_transform(np.array(df_processed['ask_size']).reshape(-1,1))\n",
    "\n",
    "\n",
    "        return df_processed, imp_mean_imbalance_size, imp_mean_matched_size, imp_mean_bid_price, \\\n",
    "imp_mean_ask_price, imp_mean_wap, imp_mean_ask_size\n",
    "\n",
    "df_processed, imp_mean_imbalance_size, imp_mean_matched_size, imp_mean_bid_price, imp_mean_ask_price, imp_mean_wap, imp_mean_ask_size = imputer(df_processed)"
   ]
  },
  {
   "cell_type": "code",
   "execution_count": 19,
   "id": "5164c87e",
   "metadata": {
    "execution": {
     "iopub.execute_input": "2023-12-20T23:46:52.276907Z",
     "iopub.status.busy": "2023-12-20T23:46:52.276612Z",
     "iopub.status.idle": "2023-12-20T23:46:52.335532Z",
     "shell.execute_reply": "2023-12-20T23:46:52.334565Z"
    },
    "papermill": {
     "duration": 0.078669,
     "end_time": "2023-12-20T23:46:52.337807",
     "exception": false,
     "start_time": "2023-12-20T23:46:52.259138",
     "status": "completed"
    },
    "tags": []
   },
   "outputs": [
    {
     "data": {
      "text/plain": [
       "stock_id          0\n",
       "date_id           0\n",
       "imbalance_size    0\n",
       "matched_size      0\n",
       "bid_price         0\n",
       "ask_price         0\n",
       "ask_size          0\n",
       "wap               0\n",
       "target            0\n",
       "time_id           0\n",
       "dtype: int64"
      ]
     },
     "execution_count": 19,
     "metadata": {},
     "output_type": "execute_result"
    }
   ],
   "source": [
    "df_processed.isna().sum()"
   ]
  },
  {
   "cell_type": "code",
   "execution_count": 20,
   "id": "4c8a954c",
   "metadata": {
    "execution": {
     "iopub.execute_input": "2023-12-20T23:46:52.371909Z",
     "iopub.status.busy": "2023-12-20T23:46:52.371606Z",
     "iopub.status.idle": "2023-12-20T23:46:52.378870Z",
     "shell.execute_reply": "2023-12-20T23:46:52.378081Z"
    },
    "papermill": {
     "duration": 0.025813,
     "end_time": "2023-12-20T23:46:52.380725",
     "exception": false,
     "start_time": "2023-12-20T23:46:52.354912",
     "status": "completed"
    },
    "tags": []
   },
   "outputs": [],
   "source": [
    "### Function that applies the imputer to a dataframe (to be used in the testdataset):\n",
    "def apply_imputer(df_processed):\n",
    "    df_processed['imbalance_size'] = imp_mean_imbalance_size.transform(np.array(df_processed['imbalance_size']).reshape(-1,1))\n",
    "    #df_processed['reference_price'] = imp_mean_reference_price.transform(np.array(df_processed['reference_price']).reshape(-1,1))\n",
    "    df_processed['matched_size'] = imp_mean_matched_size.transform(np.array(df_processed['matched_size']).reshape(-1,1))\n",
    "    df_processed['bid_price'] = imp_mean_bid_price.transform(np.array(df_processed['bid_price']).reshape(-1,1))\n",
    "    df_processed['ask_price'] = imp_mean_ask_price.transform(np.array(df_processed['ask_price']).reshape(-1,1))\n",
    "    df_processed['wap'] = imp_mean_wap.transform(np.array(df_processed['wap']).reshape(-1,1))\n",
    "    #df_processed['seconds_in_bucket'] = imp_mean_seconds_in_bucket.transform(np.array(df_processed['seconds_in_bucket']).reshape(-1,1))\n",
    "    #df_processed['bid_size'] = imp_mean_bid_size.transform(np.array(df_processed['bid_size']).reshape(-1,1))\n",
    "    df_processed['ask_size'] = imp_mean_ask_size.transform(np.array(df_processed['ask_size']).reshape(-1,1))\n",
    "    \n",
    "    return df_processed"
   ]
  },
  {
   "cell_type": "code",
   "execution_count": 1,
   "id": "a16a7f3e",
   "metadata": {
    "execution": {
     "iopub.execute_input": "2023-12-20T23:46:52.413892Z",
     "iopub.status.busy": "2023-12-20T23:46:52.413612Z",
     "iopub.status.idle": "2023-12-20T23:46:52.640931Z",
     "shell.execute_reply": "2023-12-20T23:46:52.640053Z"
    },
    "papermill": {
     "duration": 0.246636,
     "end_time": "2023-12-20T23:46:52.643217",
     "exception": false,
     "start_time": "2023-12-20T23:46:52.396581",
     "status": "completed"
    },
    "tags": []
   },
   "outputs": [],
   "source": [
    "### Test dataset:\n",
    "test_df = pd.read_csv(\"/test/testset.csv\")\n",
    "test_df_targets = pd.read_csv(\"/test/testtargets.csv\")\n",
    "\n",
    "test_df"
   ]
  },
  {
   "cell_type": "markdown",
   "id": "e9135a65",
   "metadata": {
    "papermill": {
     "duration": 0.016871,
     "end_time": "2023-12-20T23:46:52.733495",
     "exception": false,
     "start_time": "2023-12-20T23:46:52.716624",
     "status": "completed"
    },
    "tags": []
   },
   "source": [
    "### LGBM model"
   ]
  },
  {
   "cell_type": "code",
   "execution_count": 23,
   "id": "2fa919dc",
   "metadata": {
    "execution": {
     "iopub.execute_input": "2023-12-20T23:46:52.769365Z",
     "iopub.status.busy": "2023-12-20T23:46:52.768636Z",
     "iopub.status.idle": "2023-12-20T23:46:53.800126Z",
     "shell.execute_reply": "2023-12-20T23:46:53.799263Z"
    },
    "papermill": {
     "duration": 1.052364,
     "end_time": "2023-12-20T23:46:53.802861",
     "exception": false,
     "start_time": "2023-12-20T23:46:52.750497",
     "status": "completed"
    },
    "tags": []
   },
   "outputs": [],
   "source": [
    "### LGBM:\n",
    "\n",
    "#First just performing a simple train_test_split on the training dataset:\n",
    "\n",
    "y = df_processed['target']\n",
    "X = df_processed.drop(['target'], axis = 1)\n",
    "\n",
    "#Final test dataset doesn't have time_id:\n",
    "X = X.drop(['time_id'], axis = 1)\n",
    "\n",
    "X_train, X_test, y_train, y_test = train_test_split(X, y, test_size = 0.7, random_state = 21)\n",
    "X_train = X.iloc[0:5000000,:]\n",
    "X_test = X.iloc[5000000:,:]\n",
    "y_train = y[0:5000000]\n",
    "y_test = y[5000000:]"
   ]
  },
  {
   "cell_type": "code",
   "execution_count": 24,
   "id": "b2fc4b7b",
   "metadata": {
    "execution": {
     "iopub.execute_input": "2023-12-20T23:46:53.839155Z",
     "iopub.status.busy": "2023-12-20T23:46:53.838853Z",
     "iopub.status.idle": "2023-12-20T23:46:53.844090Z",
     "shell.execute_reply": "2023-12-20T23:46:53.843222Z"
    },
    "papermill": {
     "duration": 0.02518,
     "end_time": "2023-12-20T23:46:53.846134",
     "exception": false,
     "start_time": "2023-12-20T23:46:53.820954",
     "status": "completed"
    },
    "tags": []
   },
   "outputs": [],
   "source": [
    "# defining parameters for Light GBM\n",
    "# params = {\n",
    "#     'task': 'train', \n",
    "#     'boosting': 'gbdt',\n",
    "#     'objective': 'regression',\n",
    "#     'num_leaves': 20,\n",
    "#     'n_estimators': 1000,\n",
    "#     'learning_rate': 0.05,\n",
    "#     'metric': {'l2','l1'},\n",
    "#     'verbose': -1\n",
    "# }\n",
    "\n",
    "params = {\n",
    "    \"objective\": \"mae\",\n",
    "    \"n_estimators\": 1000,\n",
    "    \"num_leaves\": 256,\n",
    "    \"subsample\": 0.8,\n",
    "    \"colsample_bytree\": 0.8,\n",
    "    \"learning_rate\": 0.001,\n",
    "    \"n_jobs\": 4,\n",
    "    \"device\": \"gpu\",\n",
    "    \"verbosity\": -1,\n",
    "    \"importance_type\": \"gain\",\n",
    "}"
   ]
  },
  {
   "cell_type": "code",
   "execution_count": 25,
   "id": "6ca91fa0",
   "metadata": {
    "execution": {
     "iopub.execute_input": "2023-12-20T23:46:53.881381Z",
     "iopub.status.busy": "2023-12-20T23:46:53.881051Z",
     "iopub.status.idle": "2023-12-20T23:46:53.885493Z",
     "shell.execute_reply": "2023-12-20T23:46:53.884598Z"
    },
    "papermill": {
     "duration": 0.024035,
     "end_time": "2023-12-20T23:46:53.887376",
     "exception": false,
     "start_time": "2023-12-20T23:46:53.863341",
     "status": "completed"
    },
    "tags": []
   },
   "outputs": [],
   "source": [
    "# Loading data\n",
    "lgbm_train = lgbm.Dataset(X_train, y_train)\n",
    "lgbm_eval = lgbm.Dataset(X_test, y_test, reference=lgbm_train)"
   ]
  },
  {
   "cell_type": "code",
   "execution_count": 26,
   "id": "9470d7ae",
   "metadata": {
    "execution": {
     "iopub.execute_input": "2023-12-20T23:46:53.921858Z",
     "iopub.status.busy": "2023-12-20T23:46:53.921594Z",
     "iopub.status.idle": "2023-12-20T23:49:17.934829Z",
     "shell.execute_reply": "2023-12-20T23:49:17.933962Z"
    },
    "papermill": {
     "duration": 144.032532,
     "end_time": "2023-12-20T23:49:17.937059",
     "exception": false,
     "start_time": "2023-12-20T23:46:53.904527",
     "status": "completed"
    },
    "tags": []
   },
   "outputs": [
    {
     "name": "stderr",
     "output_type": "stream",
     "text": [
      "Found `n_estimators` in params. Will use it instead of argument\n",
      "'early_stopping_rounds' argument is deprecated and will be removed in a future release of LightGBM. Pass 'early_stopping()' callback via 'callbacks' argument instead.\n"
     ]
    },
    {
     "name": "stdout",
     "output_type": "stream",
     "text": [
      "[LightGBM] [Warning] Unknown parameter: importance_type\n",
      "[1]\tvalid_0's l1: 5.80703\n",
      "Training until validation scores don't improve for 30 rounds\n",
      "[2]\tvalid_0's l1: 5.80648\n",
      "[3]\tvalid_0's l1: 5.80604\n",
      "[4]\tvalid_0's l1: 5.8055\n",
      "[5]\tvalid_0's l1: 5.8048\n",
      "[6]\tvalid_0's l1: 5.80426\n",
      "[7]\tvalid_0's l1: 5.80387\n",
      "[8]\tvalid_0's l1: 5.80356\n",
      "[9]\tvalid_0's l1: 5.80304\n",
      "[10]\tvalid_0's l1: 5.80274\n",
      "[11]\tvalid_0's l1: 5.80207\n",
      "[12]\tvalid_0's l1: 5.80158\n",
      "[13]\tvalid_0's l1: 5.8011\n",
      "[14]\tvalid_0's l1: 5.80075\n",
      "[15]\tvalid_0's l1: 5.80028\n",
      "[16]\tvalid_0's l1: 5.79966\n",
      "[17]\tvalid_0's l1: 5.79906\n",
      "[18]\tvalid_0's l1: 5.79873\n",
      "[19]\tvalid_0's l1: 5.79812\n",
      "[20]\tvalid_0's l1: 5.79783\n",
      "[21]\tvalid_0's l1: 5.7974\n",
      "[22]\tvalid_0's l1: 5.79697\n",
      "[23]\tvalid_0's l1: 5.79666\n",
      "[24]\tvalid_0's l1: 5.79607\n",
      "[25]\tvalid_0's l1: 5.79584\n",
      "[26]\tvalid_0's l1: 5.79527\n",
      "[27]\tvalid_0's l1: 5.79483\n",
      "[28]\tvalid_0's l1: 5.79453\n",
      "[29]\tvalid_0's l1: 5.79401\n",
      "[30]\tvalid_0's l1: 5.79381\n",
      "[31]\tvalid_0's l1: 5.79342\n",
      "[32]\tvalid_0's l1: 5.79322\n",
      "[33]\tvalid_0's l1: 5.79285\n",
      "[34]\tvalid_0's l1: 5.79248\n",
      "[35]\tvalid_0's l1: 5.7921\n",
      "[36]\tvalid_0's l1: 5.79159\n",
      "[37]\tvalid_0's l1: 5.79126\n",
      "[38]\tvalid_0's l1: 5.79091\n",
      "[39]\tvalid_0's l1: 5.79055\n",
      "[40]\tvalid_0's l1: 5.79007\n",
      "[41]\tvalid_0's l1: 5.78971\n",
      "[42]\tvalid_0's l1: 5.78948\n",
      "[43]\tvalid_0's l1: 5.78917\n",
      "[44]\tvalid_0's l1: 5.78883\n",
      "[45]\tvalid_0's l1: 5.7885\n",
      "[46]\tvalid_0's l1: 5.78828\n",
      "[47]\tvalid_0's l1: 5.78797\n",
      "[48]\tvalid_0's l1: 5.78782\n",
      "[49]\tvalid_0's l1: 5.7875\n",
      "[50]\tvalid_0's l1: 5.78729\n",
      "[51]\tvalid_0's l1: 5.78696\n",
      "[52]\tvalid_0's l1: 5.78665\n",
      "[53]\tvalid_0's l1: 5.78644\n",
      "[54]\tvalid_0's l1: 5.78614\n",
      "[55]\tvalid_0's l1: 5.78572\n",
      "[56]\tvalid_0's l1: 5.78541\n",
      "[57]\tvalid_0's l1: 5.78511\n",
      "[58]\tvalid_0's l1: 5.78497\n",
      "[59]\tvalid_0's l1: 5.78467\n",
      "[60]\tvalid_0's l1: 5.78437\n",
      "[61]\tvalid_0's l1: 5.78395\n",
      "[62]\tvalid_0's l1: 5.78377\n",
      "[63]\tvalid_0's l1: 5.78351\n",
      "[64]\tvalid_0's l1: 5.78337\n",
      "[65]\tvalid_0's l1: 5.78313\n",
      "[66]\tvalid_0's l1: 5.78273\n",
      "[67]\tvalid_0's l1: 5.78246\n",
      "[68]\tvalid_0's l1: 5.78227\n",
      "[69]\tvalid_0's l1: 5.78203\n",
      "[70]\tvalid_0's l1: 5.78177\n",
      "[71]\tvalid_0's l1: 5.78157\n",
      "[72]\tvalid_0's l1: 5.78129\n",
      "[73]\tvalid_0's l1: 5.78102\n",
      "[74]\tvalid_0's l1: 5.78077\n",
      "[75]\tvalid_0's l1: 5.78067\n",
      "[76]\tvalid_0's l1: 5.78051\n",
      "[77]\tvalid_0's l1: 5.78028\n",
      "[78]\tvalid_0's l1: 5.78013\n",
      "[79]\tvalid_0's l1: 5.78004\n",
      "[80]\tvalid_0's l1: 5.7799\n",
      "[81]\tvalid_0's l1: 5.77967\n",
      "[82]\tvalid_0's l1: 5.77944\n",
      "[83]\tvalid_0's l1: 5.77929\n",
      "[84]\tvalid_0's l1: 5.77915\n",
      "[85]\tvalid_0's l1: 5.77892\n",
      "[86]\tvalid_0's l1: 5.77885\n",
      "[87]\tvalid_0's l1: 5.77869\n",
      "[88]\tvalid_0's l1: 5.77856\n",
      "[89]\tvalid_0's l1: 5.77849\n",
      "[90]\tvalid_0's l1: 5.7783\n",
      "[91]\tvalid_0's l1: 5.77813\n",
      "[92]\tvalid_0's l1: 5.77807\n",
      "[93]\tvalid_0's l1: 5.77786\n",
      "[94]\tvalid_0's l1: 5.77784\n",
      "[95]\tvalid_0's l1: 5.77772\n",
      "[96]\tvalid_0's l1: 5.77749\n",
      "[97]\tvalid_0's l1: 5.77732\n",
      "[98]\tvalid_0's l1: 5.7772\n",
      "[99]\tvalid_0's l1: 5.77714\n",
      "[100]\tvalid_0's l1: 5.77695\n",
      "[101]\tvalid_0's l1: 5.77675\n",
      "[102]\tvalid_0's l1: 5.77651\n",
      "[103]\tvalid_0's l1: 5.77646\n",
      "[104]\tvalid_0's l1: 5.77625\n",
      "[105]\tvalid_0's l1: 5.77613\n",
      "[106]\tvalid_0's l1: 5.77594\n",
      "[107]\tvalid_0's l1: 5.77584\n",
      "[108]\tvalid_0's l1: 5.7758\n",
      "[109]\tvalid_0's l1: 5.77579\n",
      "[110]\tvalid_0's l1: 5.77558\n",
      "[111]\tvalid_0's l1: 5.77539\n",
      "[112]\tvalid_0's l1: 5.77528\n",
      "[113]\tvalid_0's l1: 5.77507\n",
      "[114]\tvalid_0's l1: 5.77493\n",
      "[115]\tvalid_0's l1: 5.77465\n",
      "[116]\tvalid_0's l1: 5.77444\n",
      "[117]\tvalid_0's l1: 5.77426\n",
      "[118]\tvalid_0's l1: 5.77416\n",
      "[119]\tvalid_0's l1: 5.77404\n",
      "[120]\tvalid_0's l1: 5.77385\n",
      "[121]\tvalid_0's l1: 5.77366\n",
      "[122]\tvalid_0's l1: 5.77355\n",
      "[123]\tvalid_0's l1: 5.7735\n",
      "[124]\tvalid_0's l1: 5.77325\n",
      "[125]\tvalid_0's l1: 5.77308\n",
      "[126]\tvalid_0's l1: 5.77293\n",
      "[127]\tvalid_0's l1: 5.77281\n",
      "[128]\tvalid_0's l1: 5.77255\n",
      "[129]\tvalid_0's l1: 5.77231\n",
      "[130]\tvalid_0's l1: 5.77213\n",
      "[131]\tvalid_0's l1: 5.77188\n",
      "[132]\tvalid_0's l1: 5.7717\n",
      "[133]\tvalid_0's l1: 5.77169\n",
      "[134]\tvalid_0's l1: 5.77152\n",
      "[135]\tvalid_0's l1: 5.77135\n",
      "[136]\tvalid_0's l1: 5.77118\n",
      "[137]\tvalid_0's l1: 5.77115\n",
      "[138]\tvalid_0's l1: 5.771\n",
      "[139]\tvalid_0's l1: 5.77084\n",
      "[140]\tvalid_0's l1: 5.77068\n",
      "[141]\tvalid_0's l1: 5.77066\n",
      "[142]\tvalid_0's l1: 5.77051\n",
      "[143]\tvalid_0's l1: 5.77029\n",
      "[144]\tvalid_0's l1: 5.77021\n",
      "[145]\tvalid_0's l1: 5.77008\n",
      "[146]\tvalid_0's l1: 5.77004\n",
      "[147]\tvalid_0's l1: 5.76983\n",
      "[148]\tvalid_0's l1: 5.76964\n",
      "[149]\tvalid_0's l1: 5.76948\n",
      "[150]\tvalid_0's l1: 5.76938\n",
      "[151]\tvalid_0's l1: 5.76934\n",
      "[152]\tvalid_0's l1: 5.76915\n",
      "[153]\tvalid_0's l1: 5.76902\n",
      "[154]\tvalid_0's l1: 5.76889\n",
      "[155]\tvalid_0's l1: 5.76878\n",
      "[156]\tvalid_0's l1: 5.76865\n",
      "[157]\tvalid_0's l1: 5.76863\n",
      "[158]\tvalid_0's l1: 5.76856\n",
      "[159]\tvalid_0's l1: 5.76844\n",
      "[160]\tvalid_0's l1: 5.76832\n",
      "[161]\tvalid_0's l1: 5.76829\n",
      "[162]\tvalid_0's l1: 5.76822\n",
      "[163]\tvalid_0's l1: 5.76813\n",
      "[164]\tvalid_0's l1: 5.76799\n",
      "[165]\tvalid_0's l1: 5.76791\n",
      "[166]\tvalid_0's l1: 5.76792\n",
      "[167]\tvalid_0's l1: 5.76775\n",
      "[168]\tvalid_0's l1: 5.76759\n",
      "[169]\tvalid_0's l1: 5.76749\n",
      "[170]\tvalid_0's l1: 5.76738\n",
      "[171]\tvalid_0's l1: 5.76735\n",
      "[172]\tvalid_0's l1: 5.76724\n",
      "[173]\tvalid_0's l1: 5.76711\n",
      "[174]\tvalid_0's l1: 5.76698\n",
      "[175]\tvalid_0's l1: 5.76694\n",
      "[176]\tvalid_0's l1: 5.76678\n",
      "[177]\tvalid_0's l1: 5.76677\n",
      "[178]\tvalid_0's l1: 5.76663\n",
      "[179]\tvalid_0's l1: 5.76649\n",
      "[180]\tvalid_0's l1: 5.76646\n",
      "[181]\tvalid_0's l1: 5.76634\n",
      "[182]\tvalid_0's l1: 5.76632\n",
      "[183]\tvalid_0's l1: 5.76621\n",
      "[184]\tvalid_0's l1: 5.76611\n",
      "[185]\tvalid_0's l1: 5.76595\n",
      "[186]\tvalid_0's l1: 5.76593\n",
      "[187]\tvalid_0's l1: 5.76586\n",
      "[188]\tvalid_0's l1: 5.76572\n",
      "[189]\tvalid_0's l1: 5.76559\n",
      "[190]\tvalid_0's l1: 5.76548\n",
      "[191]\tvalid_0's l1: 5.76535\n",
      "[192]\tvalid_0's l1: 5.76529\n",
      "[193]\tvalid_0's l1: 5.76531\n",
      "[194]\tvalid_0's l1: 5.76523\n",
      "[195]\tvalid_0's l1: 5.7652\n",
      "[196]\tvalid_0's l1: 5.76512\n",
      "[197]\tvalid_0's l1: 5.76496\n",
      "[198]\tvalid_0's l1: 5.76489\n",
      "[199]\tvalid_0's l1: 5.76481\n",
      "[200]\tvalid_0's l1: 5.76471\n",
      "[201]\tvalid_0's l1: 5.76462\n",
      "[202]\tvalid_0's l1: 5.76447\n",
      "[203]\tvalid_0's l1: 5.76438\n",
      "[204]\tvalid_0's l1: 5.76437\n",
      "[205]\tvalid_0's l1: 5.76427\n",
      "[206]\tvalid_0's l1: 5.76416\n",
      "[207]\tvalid_0's l1: 5.76411\n",
      "[208]\tvalid_0's l1: 5.76405\n",
      "[209]\tvalid_0's l1: 5.76401\n",
      "[210]\tvalid_0's l1: 5.7639\n",
      "[211]\tvalid_0's l1: 5.76378\n",
      "[212]\tvalid_0's l1: 5.76378\n",
      "[213]\tvalid_0's l1: 5.76367\n",
      "[214]\tvalid_0's l1: 5.76366\n",
      "[215]\tvalid_0's l1: 5.76351\n",
      "[216]\tvalid_0's l1: 5.76347\n",
      "[217]\tvalid_0's l1: 5.76343\n",
      "[218]\tvalid_0's l1: 5.76333\n",
      "[219]\tvalid_0's l1: 5.76323\n",
      "[220]\tvalid_0's l1: 5.76326\n",
      "[221]\tvalid_0's l1: 5.76312\n",
      "[222]\tvalid_0's l1: 5.76314\n",
      "[223]\tvalid_0's l1: 5.76307\n",
      "[224]\tvalid_0's l1: 5.76299\n",
      "[225]\tvalid_0's l1: 5.76295\n",
      "[226]\tvalid_0's l1: 5.76289\n",
      "[227]\tvalid_0's l1: 5.76293\n",
      "[228]\tvalid_0's l1: 5.76286\n",
      "[229]\tvalid_0's l1: 5.76276\n",
      "[230]\tvalid_0's l1: 5.76268\n",
      "[231]\tvalid_0's l1: 5.76258\n",
      "[232]\tvalid_0's l1: 5.76259\n",
      "[233]\tvalid_0's l1: 5.76248\n",
      "[234]\tvalid_0's l1: 5.76253\n",
      "[235]\tvalid_0's l1: 5.76254\n",
      "[236]\tvalid_0's l1: 5.76243\n",
      "[237]\tvalid_0's l1: 5.76234\n",
      "[238]\tvalid_0's l1: 5.76226\n",
      "[239]\tvalid_0's l1: 5.76218\n",
      "[240]\tvalid_0's l1: 5.76214\n",
      "[241]\tvalid_0's l1: 5.76205\n",
      "[242]\tvalid_0's l1: 5.76196\n",
      "[243]\tvalid_0's l1: 5.76187\n",
      "[244]\tvalid_0's l1: 5.76184\n",
      "[245]\tvalid_0's l1: 5.76185\n",
      "[246]\tvalid_0's l1: 5.76176\n",
      "[247]\tvalid_0's l1: 5.76167\n",
      "[248]\tvalid_0's l1: 5.76162\n",
      "[249]\tvalid_0's l1: 5.76154\n",
      "[250]\tvalid_0's l1: 5.7615\n",
      "[251]\tvalid_0's l1: 5.76147\n",
      "[252]\tvalid_0's l1: 5.76139\n",
      "[253]\tvalid_0's l1: 5.76134\n",
      "[254]\tvalid_0's l1: 5.76132\n",
      "[255]\tvalid_0's l1: 5.76125\n",
      "[256]\tvalid_0's l1: 5.7612\n",
      "[257]\tvalid_0's l1: 5.76112\n",
      "[258]\tvalid_0's l1: 5.76107\n",
      "[259]\tvalid_0's l1: 5.76106\n",
      "[260]\tvalid_0's l1: 5.76103\n",
      "[261]\tvalid_0's l1: 5.76102\n",
      "[262]\tvalid_0's l1: 5.76097\n",
      "[263]\tvalid_0's l1: 5.76091\n",
      "[264]\tvalid_0's l1: 5.76081\n",
      "[265]\tvalid_0's l1: 5.76078\n",
      "[266]\tvalid_0's l1: 5.76069\n",
      "[267]\tvalid_0's l1: 5.7606\n",
      "[268]\tvalid_0's l1: 5.76052\n",
      "[269]\tvalid_0's l1: 5.76041\n",
      "[270]\tvalid_0's l1: 5.7603\n",
      "[271]\tvalid_0's l1: 5.76028\n",
      "[272]\tvalid_0's l1: 5.76025\n",
      "[273]\tvalid_0's l1: 5.76015\n",
      "[274]\tvalid_0's l1: 5.76006\n",
      "[275]\tvalid_0's l1: 5.76001\n",
      "[276]\tvalid_0's l1: 5.76\n",
      "[277]\tvalid_0's l1: 5.76\n",
      "[278]\tvalid_0's l1: 5.75998\n",
      "[279]\tvalid_0's l1: 5.75994\n",
      "[280]\tvalid_0's l1: 5.75993\n",
      "[281]\tvalid_0's l1: 5.75989\n",
      "[282]\tvalid_0's l1: 5.75989\n",
      "[283]\tvalid_0's l1: 5.75982\n",
      "[284]\tvalid_0's l1: 5.75979\n",
      "[285]\tvalid_0's l1: 5.75972\n",
      "[286]\tvalid_0's l1: 5.75968\n",
      "[287]\tvalid_0's l1: 5.75966\n",
      "[288]\tvalid_0's l1: 5.7596\n",
      "[289]\tvalid_0's l1: 5.75955\n",
      "[290]\tvalid_0's l1: 5.75949\n",
      "[291]\tvalid_0's l1: 5.75948\n",
      "[292]\tvalid_0's l1: 5.75946\n",
      "[293]\tvalid_0's l1: 5.75937\n",
      "[294]\tvalid_0's l1: 5.7593\n",
      "[295]\tvalid_0's l1: 5.75929\n",
      "[296]\tvalid_0's l1: 5.75922\n",
      "[297]\tvalid_0's l1: 5.75922\n",
      "[298]\tvalid_0's l1: 5.75917\n",
      "[299]\tvalid_0's l1: 5.75914\n",
      "[300]\tvalid_0's l1: 5.75913\n",
      "[301]\tvalid_0's l1: 5.75909\n",
      "[302]\tvalid_0's l1: 5.75908\n",
      "[303]\tvalid_0's l1: 5.75904\n",
      "[304]\tvalid_0's l1: 5.75896\n",
      "[305]\tvalid_0's l1: 5.75893\n",
      "[306]\tvalid_0's l1: 5.75893\n",
      "[307]\tvalid_0's l1: 5.75893\n",
      "[308]\tvalid_0's l1: 5.75886\n",
      "[309]\tvalid_0's l1: 5.75879\n",
      "[310]\tvalid_0's l1: 5.75874\n",
      "[311]\tvalid_0's l1: 5.75872\n",
      "[312]\tvalid_0's l1: 5.75869\n",
      "[313]\tvalid_0's l1: 5.75865\n",
      "[314]\tvalid_0's l1: 5.75863\n",
      "[315]\tvalid_0's l1: 5.75856\n",
      "[316]\tvalid_0's l1: 5.75851\n",
      "[317]\tvalid_0's l1: 5.75852\n",
      "[318]\tvalid_0's l1: 5.75846\n",
      "[319]\tvalid_0's l1: 5.7585\n",
      "[320]\tvalid_0's l1: 5.75851\n",
      "[321]\tvalid_0's l1: 5.75849\n",
      "[322]\tvalid_0's l1: 5.75846\n",
      "[323]\tvalid_0's l1: 5.7584\n",
      "[324]\tvalid_0's l1: 5.75834\n",
      "[325]\tvalid_0's l1: 5.75827\n",
      "[326]\tvalid_0's l1: 5.75821\n",
      "[327]\tvalid_0's l1: 5.75821\n",
      "[328]\tvalid_0's l1: 5.75817\n",
      "[329]\tvalid_0's l1: 5.75816\n",
      "[330]\tvalid_0's l1: 5.75811\n",
      "[331]\tvalid_0's l1: 5.75811\n",
      "[332]\tvalid_0's l1: 5.75808\n",
      "[333]\tvalid_0's l1: 5.75805\n",
      "[334]\tvalid_0's l1: 5.75804\n",
      "[335]\tvalid_0's l1: 5.75802\n",
      "[336]\tvalid_0's l1: 5.75808\n",
      "[337]\tvalid_0's l1: 5.75804\n",
      "[338]\tvalid_0's l1: 5.758\n",
      "[339]\tvalid_0's l1: 5.75793\n",
      "[340]\tvalid_0's l1: 5.75791\n",
      "[341]\tvalid_0's l1: 5.75789\n",
      "[342]\tvalid_0's l1: 5.75785\n",
      "[343]\tvalid_0's l1: 5.75783\n",
      "[344]\tvalid_0's l1: 5.75778\n",
      "[345]\tvalid_0's l1: 5.75774\n",
      "[346]\tvalid_0's l1: 5.75776\n",
      "[347]\tvalid_0's l1: 5.75775\n",
      "[348]\tvalid_0's l1: 5.75773\n",
      "[349]\tvalid_0's l1: 5.7577\n",
      "[350]\tvalid_0's l1: 5.75764\n",
      "[351]\tvalid_0's l1: 5.75765\n",
      "[352]\tvalid_0's l1: 5.75764\n",
      "[353]\tvalid_0's l1: 5.75761\n",
      "[354]\tvalid_0's l1: 5.7576\n",
      "[355]\tvalid_0's l1: 5.7576\n",
      "[356]\tvalid_0's l1: 5.75757\n",
      "[357]\tvalid_0's l1: 5.7576\n",
      "[358]\tvalid_0's l1: 5.75755\n",
      "[359]\tvalid_0's l1: 5.7575\n",
      "[360]\tvalid_0's l1: 5.75747\n",
      "[361]\tvalid_0's l1: 5.75746\n",
      "[362]\tvalid_0's l1: 5.75741\n",
      "[363]\tvalid_0's l1: 5.75738\n",
      "[364]\tvalid_0's l1: 5.75733\n",
      "[365]\tvalid_0's l1: 5.75728\n",
      "[366]\tvalid_0's l1: 5.75729\n",
      "[367]\tvalid_0's l1: 5.75724\n",
      "[368]\tvalid_0's l1: 5.75718\n",
      "[369]\tvalid_0's l1: 5.75714\n",
      "[370]\tvalid_0's l1: 5.75709\n",
      "[371]\tvalid_0's l1: 5.75706\n",
      "[372]\tvalid_0's l1: 5.75706\n",
      "[373]\tvalid_0's l1: 5.75707\n",
      "[374]\tvalid_0's l1: 5.75704\n",
      "[375]\tvalid_0's l1: 5.75702\n",
      "[376]\tvalid_0's l1: 5.75695\n",
      "[377]\tvalid_0's l1: 5.75695\n",
      "[378]\tvalid_0's l1: 5.7569\n",
      "[379]\tvalid_0's l1: 5.75685\n",
      "[380]\tvalid_0's l1: 5.75683\n",
      "[381]\tvalid_0's l1: 5.7568\n",
      "[382]\tvalid_0's l1: 5.75679\n",
      "[383]\tvalid_0's l1: 5.7568\n",
      "[384]\tvalid_0's l1: 5.75676\n",
      "[385]\tvalid_0's l1: 5.7567\n",
      "[386]\tvalid_0's l1: 5.75672\n",
      "[387]\tvalid_0's l1: 5.75676\n",
      "[388]\tvalid_0's l1: 5.75673\n",
      "[389]\tvalid_0's l1: 5.7567\n",
      "[390]\tvalid_0's l1: 5.75671\n",
      "[391]\tvalid_0's l1: 5.7567\n",
      "[392]\tvalid_0's l1: 5.75664\n",
      "[393]\tvalid_0's l1: 5.7566\n",
      "[394]\tvalid_0's l1: 5.75657\n",
      "[395]\tvalid_0's l1: 5.75657\n",
      "[396]\tvalid_0's l1: 5.75653\n",
      "[397]\tvalid_0's l1: 5.75653\n",
      "[398]\tvalid_0's l1: 5.75657\n",
      "[399]\tvalid_0's l1: 5.75653\n",
      "[400]\tvalid_0's l1: 5.75653\n",
      "[401]\tvalid_0's l1: 5.75639\n",
      "[402]\tvalid_0's l1: 5.7564\n",
      "[403]\tvalid_0's l1: 5.75631\n",
      "[404]\tvalid_0's l1: 5.75632\n",
      "[405]\tvalid_0's l1: 5.75628\n",
      "[406]\tvalid_0's l1: 5.75624\n",
      "[407]\tvalid_0's l1: 5.75618\n",
      "[408]\tvalid_0's l1: 5.75619\n",
      "[409]\tvalid_0's l1: 5.75618\n",
      "[410]\tvalid_0's l1: 5.75616\n",
      "[411]\tvalid_0's l1: 5.7561\n",
      "[412]\tvalid_0's l1: 5.75611\n",
      "[413]\tvalid_0's l1: 5.7561\n",
      "[414]\tvalid_0's l1: 5.75608\n",
      "[415]\tvalid_0's l1: 5.7561\n",
      "[416]\tvalid_0's l1: 5.75607\n",
      "[417]\tvalid_0's l1: 5.75609\n",
      "[418]\tvalid_0's l1: 5.75612\n",
      "[419]\tvalid_0's l1: 5.75609\n",
      "[420]\tvalid_0's l1: 5.75606\n",
      "[421]\tvalid_0's l1: 5.75618\n",
      "[422]\tvalid_0's l1: 5.75615\n",
      "[423]\tvalid_0's l1: 5.75619\n",
      "[424]\tvalid_0's l1: 5.75623\n",
      "[425]\tvalid_0's l1: 5.75624\n",
      "[426]\tvalid_0's l1: 5.7564\n",
      "[427]\tvalid_0's l1: 5.75636\n",
      "[428]\tvalid_0's l1: 5.75636\n",
      "[429]\tvalid_0's l1: 5.75636\n",
      "[430]\tvalid_0's l1: 5.75632\n",
      "[431]\tvalid_0's l1: 5.75635\n",
      "[432]\tvalid_0's l1: 5.75655\n",
      "[433]\tvalid_0's l1: 5.75655\n",
      "[434]\tvalid_0's l1: 5.75651\n",
      "[435]\tvalid_0's l1: 5.75658\n",
      "[436]\tvalid_0's l1: 5.75655\n",
      "[437]\tvalid_0's l1: 5.75657\n",
      "[438]\tvalid_0's l1: 5.75656\n",
      "[439]\tvalid_0's l1: 5.75656\n",
      "[440]\tvalid_0's l1: 5.75655\n",
      "[441]\tvalid_0's l1: 5.75656\n",
      "[442]\tvalid_0's l1: 5.75662\n",
      "[443]\tvalid_0's l1: 5.75685\n",
      "[444]\tvalid_0's l1: 5.75685\n",
      "[445]\tvalid_0's l1: 5.75689\n",
      "[446]\tvalid_0's l1: 5.75689\n",
      "[447]\tvalid_0's l1: 5.75689\n",
      "[448]\tvalid_0's l1: 5.75691\n",
      "[449]\tvalid_0's l1: 5.75685\n",
      "[450]\tvalid_0's l1: 5.75691\n",
      "Early stopping, best iteration is:\n",
      "[420]\tvalid_0's l1: 5.75606\n"
     ]
    }
   ],
   "source": [
    "# fitting the model\n",
    "clf = lgbm.train(params,\n",
    "                 train_set=lgbm_train,\n",
    "                 valid_sets=lgbm_eval,\n",
    "                 early_stopping_rounds=30)"
   ]
  },
  {
   "cell_type": "code",
   "execution_count": 27,
   "id": "a1092f28",
   "metadata": {
    "execution": {
     "iopub.execute_input": "2023-12-20T23:49:18.046001Z",
     "iopub.status.busy": "2023-12-20T23:49:18.045632Z",
     "iopub.status.idle": "2023-12-20T23:49:24.454647Z",
     "shell.execute_reply": "2023-12-20T23:49:24.453747Z"
    },
    "papermill": {
     "duration": 6.465634,
     "end_time": "2023-12-20T23:49:24.456552",
     "exception": false,
     "start_time": "2023-12-20T23:49:17.990918",
     "status": "completed"
    },
    "tags": []
   },
   "outputs": [
    {
     "name": "stdout",
     "output_type": "stream",
     "text": [
      "Mean Absolute Error: 5.756058880770116\n"
     ]
    },
    {
     "name": "stderr",
     "output_type": "stream",
     "text": [
      "is_sparse is deprecated and will be removed in a future version. Check `isinstance(dtype, pd.SparseDtype)` instead.\n",
      "is_sparse is deprecated and will be removed in a future version. Check `isinstance(dtype, pd.SparseDtype)` instead.\n"
     ]
    }
   ],
   "source": [
    "y_pred = clf.predict(X_test)\n",
    "mae = mean_absolute_error(y_pred, y_test)\n",
    "print(\"Mean Absolute Error: {}\".format(mae))"
   ]
  },
  {
   "cell_type": "code",
   "execution_count": 3,
   "id": "1eeb7b1b",
   "metadata": {
    "execution": {
     "iopub.execute_input": "2023-12-20T23:49:24.563767Z",
     "iopub.status.busy": "2023-12-20T23:49:24.563429Z",
     "iopub.status.idle": "2023-12-20T23:49:24.877662Z",
     "shell.execute_reply": "2023-12-20T23:49:24.876663Z"
    },
    "papermill": {
     "duration": 0.37032,
     "end_time": "2023-12-20T23:49:24.879949",
     "exception": false,
     "start_time": "2023-12-20T23:49:24.509629",
     "status": "completed"
    },
    "tags": []
   },
   "outputs": [],
   "source": [
    "#Feature importance:\n",
    "lgbm.plot_importance(clf, height=.5)"
   ]
  },
  {
   "cell_type": "markdown",
   "id": "c4d87196",
   "metadata": {
    "papermill": {
     "duration": 0.052568,
     "end_time": "2023-12-20T23:49:25.218679",
     "exception": false,
     "start_time": "2023-12-20T23:49:25.166111",
     "status": "completed"
    },
    "tags": []
   },
   "source": [
    "### Now let's test our baseline model in the sample test dataset:"
   ]
  },
  {
   "cell_type": "code",
   "execution_count": 2,
   "id": "32738969",
   "metadata": {
    "execution": {
     "iopub.execute_input": "2023-12-20T23:49:25.328369Z",
     "iopub.status.busy": "2023-12-20T23:49:25.327583Z",
     "iopub.status.idle": "2023-12-20T23:49:25.349610Z",
     "shell.execute_reply": "2023-12-20T23:49:25.348554Z"
    },
    "papermill": {
     "duration": 0.079535,
     "end_time": "2023-12-20T23:49:25.351551",
     "exception": false,
     "start_time": "2023-12-20T23:49:25.272016",
     "status": "completed"
    },
    "tags": []
   },
   "outputs": [],
   "source": [
    "### Drop far_price, and near_price as we did in the traning dataset:\n",
    "\n",
    "test_id_col, test_df_processed = drop_cols(test_df)\n",
    "test_df_processed"
   ]
  },
  {
   "cell_type": "code",
   "execution_count": 32,
   "id": "c9ad042d",
   "metadata": {
    "execution": {
     "iopub.execute_input": "2023-12-20T23:49:25.464920Z",
     "iopub.status.busy": "2023-12-20T23:49:25.464094Z",
     "iopub.status.idle": "2023-12-20T23:49:25.470198Z",
     "shell.execute_reply": "2023-12-20T23:49:25.469238Z"
    },
    "papermill": {
     "duration": 0.065098,
     "end_time": "2023-12-20T23:49:25.472177",
     "exception": false,
     "start_time": "2023-12-20T23:49:25.407079",
     "status": "completed"
    },
    "tags": []
   },
   "outputs": [],
   "source": [
    "test_df_processed = test_df_processed.drop(['time_id'], axis = 1)\n",
    "test_df_processed = test_df_processed.drop(['currently_scored'], axis = 1)"
   ]
  },
  {
   "cell_type": "code",
   "execution_count": 34,
   "id": "3ce3341a",
   "metadata": {
    "execution": {
     "iopub.execute_input": "2023-12-20T23:49:25.702842Z",
     "iopub.status.busy": "2023-12-20T23:49:25.702181Z",
     "iopub.status.idle": "2023-12-20T23:49:26.600717Z",
     "shell.execute_reply": "2023-12-20T23:49:26.599894Z"
    },
    "papermill": {
     "duration": 0.956305,
     "end_time": "2023-12-20T23:49:26.602846",
     "exception": false,
     "start_time": "2023-12-20T23:49:25.646541",
     "status": "completed"
    },
    "tags": []
   },
   "outputs": [
    {
     "name": "stdout",
     "output_type": "stream",
     "text": [
      "MAE in the test Dataset: 5.439314986918139\n"
     ]
    },
    {
     "name": "stderr",
     "output_type": "stream",
     "text": [
      "is_sparse is deprecated and will be removed in a future version. Check `isinstance(dtype, pd.SparseDtype)` instead.\n",
      "is_sparse is deprecated and will be removed in a future version. Check `isinstance(dtype, pd.SparseDtype)` instead.\n"
     ]
    }
   ],
   "source": [
    "### Use our trained model to make predictions:\n",
    "y_sample_test = clf.predict(test_df_processed)\n",
    "y_sample_targets = test_df_targets['revealed_target']\n",
    "y_sample_targets = y_sample_targets.dropna()\n",
    "\n",
    "mae_test = mean_absolute_error(y_sample_test, y_sample_targets)\n",
    "print(\"MAE in the test Dataset: {}\".format(mae_test))"
   ]
  },
  {
   "cell_type": "markdown",
   "id": "8c9b87eb",
   "metadata": {
    "papermill": {
     "duration": 0.053313,
     "end_time": "2023-12-20T23:49:26.710940",
     "exception": false,
     "start_time": "2023-12-20T23:49:26.657627",
     "status": "completed"
    },
    "tags": []
   },
   "source": [
    "## Deep Learning PyTorch Model:"
   ]
  },
  {
   "cell_type": "code",
   "execution_count": 35,
   "id": "cd135b2b",
   "metadata": {
    "execution": {
     "iopub.execute_input": "2023-12-20T23:49:26.819033Z",
     "iopub.status.busy": "2023-12-20T23:49:26.818139Z",
     "iopub.status.idle": "2023-12-20T23:49:26.943985Z",
     "shell.execute_reply": "2023-12-20T23:49:26.943081Z"
    },
    "papermill": {
     "duration": 0.182448,
     "end_time": "2023-12-20T23:49:26.946019",
     "exception": false,
     "start_time": "2023-12-20T23:49:26.763571",
     "status": "completed"
    },
    "tags": []
   },
   "outputs": [],
   "source": [
    "#time_id not used in the model training\n",
    "df_processed_torch = df_processed.drop(['time_id'], axis = 1)"
   ]
  },
  {
   "cell_type": "code",
   "execution_count": 36,
   "id": "cd016d51",
   "metadata": {
    "execution": {
     "iopub.execute_input": "2023-12-20T23:49:27.052325Z",
     "iopub.status.busy": "2023-12-20T23:49:27.051726Z",
     "iopub.status.idle": "2023-12-20T23:49:27.956888Z",
     "shell.execute_reply": "2023-12-20T23:49:27.955513Z"
    },
    "papermill": {
     "duration": 0.960907,
     "end_time": "2023-12-20T23:49:27.959515",
     "exception": false,
     "start_time": "2023-12-20T23:49:26.998608",
     "status": "completed"
    },
    "tags": []
   },
   "outputs": [
    {
     "name": "stderr",
     "output_type": "stream",
     "text": [
      "is_sparse is deprecated and will be removed in a future version. Check `isinstance(dtype, pd.SparseDtype)` instead.\n",
      "is_sparse is deprecated and will be removed in a future version. Check `isinstance(dtype, pd.SparseDtype)` instead.\n",
      "is_sparse is deprecated and will be removed in a future version. Check `isinstance(dtype, pd.SparseDtype)` instead.\n",
      "is_sparse is deprecated and will be removed in a future version. Check `isinstance(dtype, pd.SparseDtype)` instead.\n",
      "is_sparse is deprecated and will be removed in a future version. Check `isinstance(dtype, pd.SparseDtype)` instead.\n",
      "is_sparse is deprecated and will be removed in a future version. Check `isinstance(dtype, pd.SparseDtype)` instead.\n"
     ]
    }
   ],
   "source": [
    "## Scale the dataset\n",
    "scaler = StandardScaler()\n",
    "df_targets = df_processed_torch.iloc[:,-1]\n",
    "df_processed_scaled = scaler.fit_transform(df_processed_torch.iloc[:, :-1])\n",
    "df_processed_scaled.shape\n",
    "\n",
    "df_scaled_with_targets = pd.concat([pd.DataFrame(df_processed_scaled), df_targets], axis = 1)\n",
    "df_scaled_with_targets = df_scaled_with_targets.to_numpy()"
   ]
  },
  {
   "cell_type": "code",
   "execution_count": 37,
   "id": "0d12a6c6",
   "metadata": {
    "execution": {
     "iopub.execute_input": "2023-12-20T23:49:28.067051Z",
     "iopub.status.busy": "2023-12-20T23:49:28.066718Z",
     "iopub.status.idle": "2023-12-20T23:49:28.074249Z",
     "shell.execute_reply": "2023-12-20T23:49:28.073251Z"
    },
    "papermill": {
     "duration": 0.063517,
     "end_time": "2023-12-20T23:49:28.076200",
     "exception": false,
     "start_time": "2023-12-20T23:49:28.012683",
     "status": "completed"
    },
    "tags": []
   },
   "outputs": [
    {
     "data": {
      "text/plain": [
       "array([[-1.3700737e+00,  1.5699632e+00, -2.5155580e-01, ...,\n",
       "        -1.0170183e-01, -3.9853221e-03, -7.3897839e+00],\n",
       "       [-1.3527941e+00,  1.5699632e+00, -1.7984700e-01, ...,\n",
       "        -2.9960307e-01, -6.8548304e-01,  7.8904629e+00],\n",
       "       [-1.3355144e+00,  1.5699632e+00,  1.7912329e+00, ...,\n",
       "        -2.1087390e-01, -2.3462774e-01, -1.1998415e+00],\n",
       "       ...,\n",
       "       [ 1.6884135e+00,  1.7215528e+00, -2.7858451e-01, ...,\n",
       "         9.7763687e-01, -1.6796988e+00,  1.1694431e+00],\n",
       "       [ 1.7056930e+00,  1.7215528e+00, -2.2979701e-01, ...,\n",
       "         4.7645264e+00, -3.9398196e-01, -1.5401840e+00],\n",
       "       [ 1.7229726e+00,  1.7215528e+00, -1.8673745e-01, ...,\n",
       "         1.9063126e+00,  9.1376334e-01, -6.5302849e+00]], dtype=float32)"
      ]
     },
     "execution_count": 37,
     "metadata": {},
     "output_type": "execute_result"
    }
   ],
   "source": [
    "### Split into the train and test (validation) sets:\n",
    "\n",
    "df_train = df_scaled_with_targets[0:5000000, :]\n",
    "df_train\n",
    "\n",
    "df_test = df_scaled_with_targets[5000000:,:]\n",
    "df_test"
   ]
  },
  {
   "cell_type": "code",
   "execution_count": 38,
   "id": "c574ae63",
   "metadata": {
    "execution": {
     "iopub.execute_input": "2023-12-20T23:49:28.184178Z",
     "iopub.status.busy": "2023-12-20T23:49:28.183496Z",
     "iopub.status.idle": "2023-12-20T23:49:28.188813Z",
     "shell.execute_reply": "2023-12-20T23:49:28.187973Z"
    },
    "papermill": {
     "duration": 0.06148,
     "end_time": "2023-12-20T23:49:28.190718",
     "exception": false,
     "start_time": "2023-12-20T23:49:28.129238",
     "status": "completed"
    },
    "tags": []
   },
   "outputs": [],
   "source": [
    "# Create an instance of the dataloader\n",
    "dataset_train = DataloaderTorch(df_train)\n",
    "\n",
    "# Create a DataLoader based on dataset_train\n",
    "dataloader_train = DataLoader(\n",
    "    dataset_train,\n",
    "    batch_size=2048,\n",
    "    shuffle=False,\n",
    ")\n",
    "\n",
    "# Create an instance of the dataloader\n",
    "dataset_test = DataloaderTorch(df_test)\n",
    "\n",
    "# Create a DataLoader based on dataset_train\n",
    "dataloader_test = DataLoader(\n",
    "    dataset_test,\n",
    "    batch_size=2048,\n",
    "    shuffle=False,\n",
    ")"
   ]
  },
  {
   "cell_type": "code",
   "execution_count": 39,
   "id": "bf50b497",
   "metadata": {
    "execution": {
     "iopub.execute_input": "2023-12-20T23:49:28.303020Z",
     "iopub.status.busy": "2023-12-20T23:49:28.302405Z",
     "iopub.status.idle": "2023-12-20T23:49:28.312130Z",
     "shell.execute_reply": "2023-12-20T23:49:28.311254Z"
    },
    "papermill": {
     "duration": 0.069344,
     "end_time": "2023-12-20T23:49:28.314228",
     "exception": false,
     "start_time": "2023-12-20T23:49:28.244884",
     "status": "completed"
    },
    "tags": []
   },
   "outputs": [],
   "source": [
    "### Train and Test loop funtions:\n",
    "\n",
    "def train_loop(dataloader, model, loss_fn, optimizer):\n",
    "    size = len(dataloader.dataset)\n",
    "    # Set the model to training mode - important for batch normalization and dropout layers\n",
    "    # Unnecessary in this situation but added for best practices\n",
    "    model.train()\n",
    "    for batch, (X, y) in enumerate(dataloader):\n",
    "        # Compute prediction and loss\n",
    "        pred = model(X.to(device))\n",
    "        #y = y.reshape(-1, 1)\n",
    "        loss = loss_fn(pred, y.to(device))\n",
    "\n",
    "        # Backpropagation\n",
    "        loss.backward()\n",
    "        optimizer.step()\n",
    "        optimizer.zero_grad()\n",
    "\n",
    "        if batch % 100 == 0:\n",
    "            loss, current = loss.item(), (batch + 1) * len(X)\n",
    "            print(f\"loss: {loss:>7f}  [{current:>5d}/{size:>5d}]\")\n",
    "            \n",
    "def test_loop(dataloader, model, loss_fn):\n",
    "    # Set the model to evaluation mode - important for batch normalization and dropout layers\n",
    "    # Unnecessary in this situation but added for best practices\n",
    "    model.eval()\n",
    "    size = len(dataloader.dataset)\n",
    "    num_batches = len(dataloader)\n",
    "    test_loss, correct = 0, 0\n",
    "\n",
    "    # Evaluating the model with torch.no_grad() ensures that no gradients are computed during test mode\n",
    "    # also serves to reduce unnecessary gradient computations and memory usage for tensors with requires_grad=True\n",
    "    with torch.no_grad():\n",
    "        for X, y in dataloader:\n",
    "            pred = model(X.to(device))\n",
    "            test_loss += loss_fn(pred, y.to(device)).item()\n",
    "            #correct += (pred.argmax(1) == y).type(torch.float).sum().item()\n",
    "\n",
    "    test_loss /= num_batches\n",
    "    correct /= size\n",
    "    print(f\"Test Error: \\n Accuracy: {(100*correct):>0.1f}%, Avg loss: {test_loss:>8f} \\n\")"
   ]
  },
  {
   "cell_type": "code",
   "execution_count": 40,
   "id": "6b4cfae9",
   "metadata": {
    "execution": {
     "iopub.execute_input": "2023-12-20T23:49:28.426135Z",
     "iopub.status.busy": "2023-12-20T23:49:28.425316Z",
     "iopub.status.idle": "2023-12-20T23:49:33.183133Z",
     "shell.execute_reply": "2023-12-20T23:49:33.181701Z"
    },
    "papermill": {
     "duration": 4.815428,
     "end_time": "2023-12-20T23:49:33.185382",
     "exception": false,
     "start_time": "2023-12-20T23:49:28.369954",
     "status": "completed"
    },
    "tags": []
   },
   "outputs": [
    {
     "name": "stdout",
     "output_type": "stream",
     "text": [
      "DNN(\n",
      "  (fc1): Linear(in_features=8, out_features=20, bias=True)\n",
      "  (fc2): Linear(in_features=20, out_features=10, bias=True)\n",
      "  (fc3): Linear(in_features=10, out_features=5, bias=True)\n",
      "  (fc4): Linear(in_features=5, out_features=1, bias=True)\n",
      "  (bn1): BatchNorm1d(20, eps=1e-05, momentum=0.1, affine=True, track_running_stats=True)\n",
      "  (bn2): BatchNorm1d(10, eps=1e-05, momentum=0.1, affine=True, track_running_stats=True)\n",
      "  (bn3): BatchNorm1d(5, eps=1e-05, momentum=0.1, affine=True, track_running_stats=True)\n",
      ")\n"
     ]
    }
   ],
   "source": [
    "dnn = DNN().to(device)\n",
    "print(dnn)"
   ]
  },
  {
   "cell_type": "code",
   "execution_count": 41,
   "id": "76cbc6eb",
   "metadata": {
    "execution": {
     "iopub.execute_input": "2023-12-20T23:49:33.293432Z",
     "iopub.status.busy": "2023-12-20T23:49:33.293056Z",
     "iopub.status.idle": "2023-12-20T23:56:09.286081Z",
     "shell.execute_reply": "2023-12-20T23:56:09.285062Z"
    },
    "papermill": {
     "duration": 396.049659,
     "end_time": "2023-12-20T23:56:09.288475",
     "exception": false,
     "start_time": "2023-12-20T23:49:33.238816",
     "status": "completed"
    },
    "tags": []
   },
   "outputs": [
    {
     "name": "stdout",
     "output_type": "stream",
     "text": [
      "Epoch 1\n",
      "-------------------------------\n"
     ]
    },
    {
     "name": "stderr",
     "output_type": "stream",
     "text": [
      "Using a target size (torch.Size([2048])) that is different to the input size (torch.Size([2048, 1])). This will likely lead to incorrect results due to broadcasting. Please ensure they have the same size.\n"
     ]
    },
    {
     "name": "stdout",
     "output_type": "stream",
     "text": [
      "loss: 6.262473  [ 2048/5000000]\n",
      "loss: 5.874525  [206848/5000000]\n",
      "loss: 4.005534  [411648/5000000]\n",
      "loss: 4.466842  [616448/5000000]\n",
      "loss: 5.301092  [821248/5000000]\n",
      "loss: 13.438891  [1026048/5000000]\n",
      "loss: 6.625601  [1230848/5000000]\n",
      "loss: 7.118485  [1435648/5000000]\n",
      "loss: 6.019901  [1640448/5000000]\n",
      "loss: 6.847053  [1845248/5000000]\n",
      "loss: 10.098598  [2050048/5000000]\n",
      "loss: 6.643748  [2254848/5000000]\n",
      "loss: 5.960042  [2459648/5000000]\n",
      "loss: 6.004039  [2664448/5000000]\n",
      "loss: 6.497533  [2869248/5000000]\n",
      "loss: 5.621437  [3074048/5000000]\n",
      "loss: 5.153612  [3278848/5000000]\n",
      "loss: 8.215820  [3483648/5000000]\n",
      "loss: 6.032023  [3688448/5000000]\n",
      "loss: 5.349797  [3893248/5000000]\n",
      "loss: 7.333556  [4098048/5000000]\n",
      "loss: 4.903646  [4302848/5000000]\n",
      "loss: 7.580214  [4507648/5000000]\n",
      "loss: 5.280579  [4712448/5000000]\n",
      "loss: 4.945852  [4917248/5000000]\n"
     ]
    },
    {
     "name": "stderr",
     "output_type": "stream",
     "text": [
      "Using a target size (torch.Size([832])) that is different to the input size (torch.Size([832, 1])). This will likely lead to incorrect results due to broadcasting. Please ensure they have the same size.\n",
      "Using a target size (torch.Size([412])) that is different to the input size (torch.Size([412, 1])). This will likely lead to incorrect results due to broadcasting. Please ensure they have the same size.\n"
     ]
    },
    {
     "name": "stdout",
     "output_type": "stream",
     "text": [
      "Test Error: \n",
      " Accuracy: 0.0%, Avg loss: 5.797584 \n",
      "\n",
      "Epoch 2\n",
      "-------------------------------\n",
      "loss: 6.129678  [ 2048/5000000]\n",
      "loss: 5.884496  [206848/5000000]\n",
      "loss: 4.006896  [411648/5000000]\n",
      "loss: 4.465058  [616448/5000000]\n",
      "loss: 5.300643  [821248/5000000]\n",
      "loss: 13.438490  [1026048/5000000]\n",
      "loss: 6.624300  [1230848/5000000]\n",
      "loss: 7.118714  [1435648/5000000]\n",
      "loss: 6.019745  [1640448/5000000]\n",
      "loss: 6.847759  [1845248/5000000]\n",
      "loss: 10.098497  [2050048/5000000]\n",
      "loss: 6.643152  [2254848/5000000]\n",
      "loss: 5.959695  [2459648/5000000]\n",
      "loss: 6.003633  [2664448/5000000]\n",
      "loss: 6.497471  [2869248/5000000]\n",
      "loss: 5.620371  [3074048/5000000]\n",
      "loss: 5.153567  [3278848/5000000]\n",
      "loss: 8.215700  [3483648/5000000]\n",
      "loss: 6.032026  [3688448/5000000]\n",
      "loss: 5.349725  [3893248/5000000]\n",
      "loss: 7.333776  [4098048/5000000]\n",
      "loss: 4.903453  [4302848/5000000]\n",
      "loss: 7.580251  [4507648/5000000]\n",
      "loss: 5.280387  [4712448/5000000]\n",
      "loss: 4.945765  [4917248/5000000]\n",
      "Test Error: \n",
      " Accuracy: 0.0%, Avg loss: 5.797357 \n",
      "\n",
      "Epoch 3\n",
      "-------------------------------\n",
      "loss: 6.129564  [ 2048/5000000]\n",
      "loss: 5.884691  [206848/5000000]\n",
      "loss: 4.006874  [411648/5000000]\n",
      "loss: 4.464944  [616448/5000000]\n",
      "loss: 5.300594  [821248/5000000]\n",
      "loss: 13.438488  [1026048/5000000]\n",
      "loss: 6.624172  [1230848/5000000]\n",
      "loss: 7.118711  [1435648/5000000]\n",
      "loss: 6.019745  [1640448/5000000]\n",
      "loss: 6.847922  [1845248/5000000]\n",
      "loss: 10.098503  [2050048/5000000]\n",
      "loss: 6.642524  [2254848/5000000]\n",
      "loss: 5.959624  [2459648/5000000]\n",
      "loss: 6.003570  [2664448/5000000]\n",
      "loss: 6.497313  [2869248/5000000]\n",
      "loss: 5.619783  [3074048/5000000]\n",
      "loss: 5.153444  [3278848/5000000]\n",
      "loss: 8.215700  [3483648/5000000]\n",
      "loss: 6.032052  [3688448/5000000]\n",
      "loss: 5.349687  [3893248/5000000]\n",
      "loss: 7.333856  [4098048/5000000]\n",
      "loss: 4.903356  [4302848/5000000]\n",
      "loss: 7.580217  [4507648/5000000]\n",
      "loss: 5.280316  [4712448/5000000]\n",
      "loss: 4.945656  [4917248/5000000]\n",
      "Test Error: \n",
      " Accuracy: 0.0%, Avg loss: 5.797221 \n",
      "\n",
      "Epoch 4\n",
      "-------------------------------\n",
      "loss: 6.129555  [ 2048/5000000]\n",
      "loss: 5.884573  [206848/5000000]\n",
      "loss: 4.006916  [411648/5000000]\n",
      "loss: 4.464920  [616448/5000000]\n",
      "loss: 5.300574  [821248/5000000]\n",
      "loss: 13.438483  [1026048/5000000]\n",
      "loss: 6.624240  [1230848/5000000]\n",
      "loss: 7.118731  [1435648/5000000]\n",
      "loss: 6.019750  [1640448/5000000]\n",
      "loss: 6.847968  [1845248/5000000]\n",
      "loss: 10.098505  [2050048/5000000]\n",
      "loss: 6.641959  [2254848/5000000]\n",
      "loss: 5.959604  [2459648/5000000]\n",
      "loss: 6.003492  [2664448/5000000]\n",
      "loss: 6.497232  [2869248/5000000]\n",
      "loss: 5.619797  [3074048/5000000]\n",
      "loss: 5.153397  [3278848/5000000]\n",
      "loss: 8.215658  [3483648/5000000]\n",
      "loss: 6.032072  [3688448/5000000]\n",
      "loss: 5.349676  [3893248/5000000]\n",
      "loss: 7.333915  [4098048/5000000]\n",
      "loss: 4.903422  [4302848/5000000]\n",
      "loss: 7.580169  [4507648/5000000]\n",
      "loss: 5.280316  [4712448/5000000]\n",
      "loss: 4.945611  [4917248/5000000]\n",
      "Test Error: \n",
      " Accuracy: 0.0%, Avg loss: 5.797162 \n",
      "\n",
      "Epoch 5\n",
      "-------------------------------\n",
      "loss: 6.129568  [ 2048/5000000]\n",
      "loss: 5.884561  [206848/5000000]\n",
      "loss: 4.006954  [411648/5000000]\n",
      "loss: 4.464916  [616448/5000000]\n",
      "loss: 5.300571  [821248/5000000]\n",
      "loss: 13.438507  [1026048/5000000]\n",
      "loss: 6.624338  [1230848/5000000]\n",
      "loss: 7.118772  [1435648/5000000]\n",
      "loss: 6.019751  [1640448/5000000]\n",
      "loss: 6.848012  [1845248/5000000]\n",
      "loss: 10.098531  [2050048/5000000]\n",
      "loss: 6.641541  [2254848/5000000]\n",
      "loss: 5.959602  [2459648/5000000]\n",
      "loss: 6.003464  [2664448/5000000]\n",
      "loss: 6.497179  [2869248/5000000]\n",
      "loss: 5.619921  [3074048/5000000]\n",
      "loss: 5.153367  [3278848/5000000]\n",
      "loss: 8.215620  [3483648/5000000]\n",
      "loss: 6.032097  [3688448/5000000]\n",
      "loss: 5.349669  [3893248/5000000]\n",
      "loss: 7.333988  [4098048/5000000]\n",
      "loss: 4.903447  [4302848/5000000]\n",
      "loss: 7.580124  [4507648/5000000]\n",
      "loss: 5.280328  [4712448/5000000]\n",
      "loss: 4.945577  [4917248/5000000]\n",
      "Test Error: \n",
      " Accuracy: 0.0%, Avg loss: 5.797132 \n",
      "\n",
      "Epoch 6\n",
      "-------------------------------\n",
      "loss: 6.129581  [ 2048/5000000]\n",
      "loss: 5.884539  [206848/5000000]\n",
      "loss: 4.006990  [411648/5000000]\n",
      "loss: 4.464919  [616448/5000000]\n",
      "loss: 5.300575  [821248/5000000]\n",
      "loss: 13.438556  [1026048/5000000]\n",
      "loss: 6.624397  [1230848/5000000]\n",
      "loss: 7.118811  [1435648/5000000]\n",
      "loss: 6.019753  [1640448/5000000]\n",
      "loss: 6.848130  [1845248/5000000]\n",
      "loss: 10.098564  [2050048/5000000]\n",
      "loss: 6.641139  [2254848/5000000]\n",
      "loss: 5.959589  [2459648/5000000]\n",
      "loss: 6.003443  [2664448/5000000]\n",
      "loss: 6.497110  [2869248/5000000]\n",
      "loss: 5.620040  [3074048/5000000]\n",
      "loss: 5.153304  [3278848/5000000]\n",
      "loss: 8.215593  [3483648/5000000]\n",
      "loss: 6.032125  [3688448/5000000]\n",
      "loss: 5.349662  [3893248/5000000]\n",
      "loss: 7.334071  [4098048/5000000]\n",
      "loss: 4.903424  [4302848/5000000]\n",
      "loss: 7.580089  [4507648/5000000]\n",
      "loss: 5.280343  [4712448/5000000]\n",
      "loss: 4.945542  [4917248/5000000]\n",
      "Test Error: \n",
      " Accuracy: 0.0%, Avg loss: 5.797126 \n",
      "\n",
      "Epoch 7\n",
      "-------------------------------\n",
      "loss: 6.129600  [ 2048/5000000]\n",
      "loss: 5.884465  [206848/5000000]\n",
      "loss: 4.007038  [411648/5000000]\n",
      "loss: 4.464913  [616448/5000000]\n",
      "loss: 5.300584  [821248/5000000]\n",
      "loss: 13.438617  [1026048/5000000]\n",
      "loss: 6.624441  [1230848/5000000]\n",
      "loss: 7.118850  [1435648/5000000]\n",
      "loss: 6.019753  [1640448/5000000]\n",
      "loss: 6.848244  [1845248/5000000]\n",
      "loss: 10.098597  [2050048/5000000]\n",
      "loss: 6.640685  [2254848/5000000]\n",
      "loss: 5.959562  [2459648/5000000]\n",
      "loss: 6.003369  [2664448/5000000]\n",
      "loss: 6.497043  [2869248/5000000]\n",
      "loss: 5.620103  [3074048/5000000]\n",
      "loss: 5.153247  [3278848/5000000]\n",
      "loss: 8.215592  [3483648/5000000]\n",
      "loss: 6.032146  [3688448/5000000]\n",
      "loss: 5.349647  [3893248/5000000]\n",
      "loss: 7.334148  [4098048/5000000]\n",
      "loss: 4.903412  [4302848/5000000]\n",
      "loss: 7.580063  [4507648/5000000]\n",
      "loss: 5.280352  [4712448/5000000]\n",
      "loss: 4.945490  [4917248/5000000]\n",
      "Test Error: \n",
      " Accuracy: 0.0%, Avg loss: 5.797120 \n",
      "\n",
      "Epoch 8\n",
      "-------------------------------\n",
      "loss: 6.129614  [ 2048/5000000]\n",
      "loss: 5.884357  [206848/5000000]\n",
      "loss: 4.007103  [411648/5000000]\n",
      "loss: 4.464904  [616448/5000000]\n",
      "loss: 5.300595  [821248/5000000]\n",
      "loss: 13.438685  [1026048/5000000]\n",
      "loss: 6.624474  [1230848/5000000]\n",
      "loss: 7.118892  [1435648/5000000]\n",
      "loss: 6.019752  [1640448/5000000]\n",
      "loss: 6.848340  [1845248/5000000]\n",
      "loss: 10.098631  [2050048/5000000]\n",
      "loss: 6.640262  [2254848/5000000]\n",
      "loss: 5.959524  [2459648/5000000]\n",
      "loss: 6.003270  [2664448/5000000]\n",
      "loss: 6.496981  [2869248/5000000]\n",
      "loss: 5.620194  [3074048/5000000]\n",
      "loss: 5.153185  [3278848/5000000]\n",
      "loss: 8.215604  [3483648/5000000]\n",
      "loss: 6.032171  [3688448/5000000]\n",
      "loss: 5.349626  [3893248/5000000]\n",
      "loss: 7.334230  [4098048/5000000]\n",
      "loss: 4.903398  [4302848/5000000]\n",
      "loss: 7.580046  [4507648/5000000]\n",
      "loss: 5.280360  [4712448/5000000]\n",
      "loss: 4.945444  [4917248/5000000]\n",
      "Test Error: \n",
      " Accuracy: 0.0%, Avg loss: 5.797115 \n",
      "\n",
      "Epoch 9\n",
      "-------------------------------\n",
      "loss: 6.129633  [ 2048/5000000]\n",
      "loss: 5.884177  [206848/5000000]\n",
      "loss: 4.007172  [411648/5000000]\n",
      "loss: 4.464894  [616448/5000000]\n",
      "loss: 5.300605  [821248/5000000]\n",
      "loss: 13.438752  [1026048/5000000]\n",
      "loss: 6.624473  [1230848/5000000]\n",
      "loss: 7.118943  [1435648/5000000]\n",
      "loss: 6.019747  [1640448/5000000]\n",
      "loss: 6.848406  [1845248/5000000]\n",
      "loss: 10.098660  [2050048/5000000]\n",
      "loss: 6.639923  [2254848/5000000]\n",
      "loss: 5.959485  [2459648/5000000]\n",
      "loss: 6.003167  [2664448/5000000]\n",
      "loss: 6.496930  [2869248/5000000]\n",
      "loss: 5.620349  [3074048/5000000]\n",
      "loss: 5.153123  [3278848/5000000]\n",
      "loss: 8.215625  [3483648/5000000]\n",
      "loss: 6.032187  [3688448/5000000]\n",
      "loss: 5.349605  [3893248/5000000]\n",
      "loss: 7.334311  [4098048/5000000]\n",
      "loss: 4.903401  [4302848/5000000]\n",
      "loss: 7.580023  [4507648/5000000]\n",
      "loss: 5.280379  [4712448/5000000]\n",
      "loss: 4.945430  [4917248/5000000]\n",
      "Test Error: \n",
      " Accuracy: 0.0%, Avg loss: 5.797108 \n",
      "\n",
      "Epoch 10\n",
      "-------------------------------\n",
      "loss: 6.129655  [ 2048/5000000]\n",
      "loss: 5.883948  [206848/5000000]\n",
      "loss: 4.007234  [411648/5000000]\n",
      "loss: 4.464878  [616448/5000000]\n",
      "loss: 5.300614  [821248/5000000]\n",
      "loss: 13.438833  [1026048/5000000]\n",
      "loss: 6.624471  [1230848/5000000]\n",
      "loss: 7.119008  [1435648/5000000]\n",
      "loss: 6.019736  [1640448/5000000]\n",
      "loss: 6.848396  [1845248/5000000]\n",
      "loss: 10.098700  [2050048/5000000]\n",
      "loss: 6.639680  [2254848/5000000]\n",
      "loss: 5.959456  [2459648/5000000]\n",
      "loss: 6.003136  [2664448/5000000]\n",
      "loss: 6.496944  [2869248/5000000]\n",
      "loss: 5.620612  [3074048/5000000]\n",
      "loss: 5.153092  [3278848/5000000]\n",
      "loss: 8.215625  [3483648/5000000]\n",
      "loss: 6.032186  [3688448/5000000]\n",
      "loss: 5.349593  [3893248/5000000]\n",
      "loss: 7.334388  [4098048/5000000]\n",
      "loss: 4.903439  [4302848/5000000]\n",
      "loss: 7.579974  [4507648/5000000]\n",
      "loss: 5.280406  [4712448/5000000]\n",
      "loss: 4.945482  [4917248/5000000]\n",
      "Test Error: \n",
      " Accuracy: 0.0%, Avg loss: 5.797095 \n",
      "\n",
      "Done!\n"
     ]
    }
   ],
   "source": [
    "# Define the Adam optimizer\n",
    "optimizer = optim.Adam(dnn.parameters(), lr=0.001)\n",
    "\n",
    "# Initialize the loss function (Mean Absolute Error)\n",
    "loss_fn = nn.L1Loss()\n",
    "\n",
    "epochs = 10\n",
    "for t in range(epochs):\n",
    "    print(f\"Epoch {t+1}\\n-------------------------------\")\n",
    "    train_loop(dataloader_train, dnn, loss_fn, optimizer)\n",
    "    test_loop(dataloader_test, dnn, loss_fn)\n",
    "print(\"Done!\")"
   ]
  },
  {
   "cell_type": "markdown",
   "id": "9cc23227",
   "metadata": {
    "papermill": {
     "duration": 0.072445,
     "end_time": "2023-12-20T23:56:09.437151",
     "exception": false,
     "start_time": "2023-12-20T23:56:09.364706",
     "status": "completed"
    },
    "tags": []
   },
   "source": [
    "### Evaluate the DNN model in the test dataset"
   ]
  },
  {
   "cell_type": "code",
   "execution_count": 42,
   "id": "3b759e8c",
   "metadata": {
    "execution": {
     "iopub.execute_input": "2023-12-20T23:56:09.582565Z",
     "iopub.status.busy": "2023-12-20T23:56:09.581722Z",
     "iopub.status.idle": "2023-12-20T23:56:09.587347Z",
     "shell.execute_reply": "2023-12-20T23:56:09.586422Z"
    },
    "papermill": {
     "duration": 0.08106,
     "end_time": "2023-12-20T23:56:09.589724",
     "exception": false,
     "start_time": "2023-12-20T23:56:09.508664",
     "status": "completed"
    },
    "tags": []
   },
   "outputs": [],
   "source": [
    "### Test dataset targets\n",
    "\n",
    "y_sample_targets = test_df_targets['revealed_target']\n",
    "y_sample_targets = y_sample_targets.dropna()"
   ]
  },
  {
   "cell_type": "code",
   "execution_count": 43,
   "id": "b781edef",
   "metadata": {
    "execution": {
     "iopub.execute_input": "2023-12-20T23:56:09.748549Z",
     "iopub.status.busy": "2023-12-20T23:56:09.747763Z",
     "iopub.status.idle": "2023-12-20T23:56:09.761739Z",
     "shell.execute_reply": "2023-12-20T23:56:09.760701Z"
    },
    "papermill": {
     "duration": 0.092276,
     "end_time": "2023-12-20T23:56:09.764607",
     "exception": false,
     "start_time": "2023-12-20T23:56:09.672331",
     "status": "completed"
    },
    "tags": []
   },
   "outputs": [
    {
     "name": "stderr",
     "output_type": "stream",
     "text": [
      "is_sparse is deprecated and will be removed in a future version. Check `isinstance(dtype, pd.SparseDtype)` instead.\n",
      "is_sparse is deprecated and will be removed in a future version. Check `isinstance(dtype, pd.SparseDtype)` instead.\n",
      "is_sparse is deprecated and will be removed in a future version. Check `isinstance(dtype, pd.SparseDtype)` instead.\n"
     ]
    }
   ],
   "source": [
    "# Convert to 2D PyTorch tensors\n",
    "X_final_test_torch = torch.tensor(scaler.transform(test_df_processed), dtype=torch.float32)\n",
    "X_final_test_torch = X_final_test_torch.to(device)\n",
    "\n",
    "y_sample_targets = test_df_targets['revealed_target']\n",
    "y_sample_targets = y_sample_targets.dropna()\n",
    "y_final_test_torch = torch.tensor(y_sample_targets.to_numpy(), dtype=torch.float32)\n",
    "y_final_test_torch = y_final_test_torch.to(device)"
   ]
  },
  {
   "cell_type": "code",
   "execution_count": 44,
   "id": "bb55c510",
   "metadata": {
    "execution": {
     "iopub.execute_input": "2023-12-20T23:56:09.918635Z",
     "iopub.status.busy": "2023-12-20T23:56:09.918278Z",
     "iopub.status.idle": "2023-12-20T23:56:09.924048Z",
     "shell.execute_reply": "2023-12-20T23:56:09.923137Z"
    },
    "papermill": {
     "duration": 0.081097,
     "end_time": "2023-12-20T23:56:09.925985",
     "exception": false,
     "start_time": "2023-12-20T23:56:09.844888",
     "status": "completed"
    },
    "tags": []
   },
   "outputs": [
    {
     "data": {
      "text/plain": [
       "torch.Size([33000, 8])"
      ]
     },
     "execution_count": 44,
     "metadata": {},
     "output_type": "execute_result"
    }
   ],
   "source": [
    "X_final_test_torch.shape"
   ]
  },
  {
   "cell_type": "code",
   "execution_count": 45,
   "id": "1e47ca38",
   "metadata": {
    "execution": {
     "iopub.execute_input": "2023-12-20T23:56:10.073328Z",
     "iopub.status.busy": "2023-12-20T23:56:10.072946Z",
     "iopub.status.idle": "2023-12-20T23:56:10.089129Z",
     "shell.execute_reply": "2023-12-20T23:56:10.088471Z"
    },
    "papermill": {
     "duration": 0.092604,
     "end_time": "2023-12-20T23:56:10.091191",
     "exception": false,
     "start_time": "2023-12-20T23:56:09.998587",
     "status": "completed"
    },
    "tags": []
   },
   "outputs": [],
   "source": [
    "y_final_test_pred = dnn(X_final_test_torch)"
   ]
  },
  {
   "cell_type": "code",
   "execution_count": 46,
   "id": "9a34384a",
   "metadata": {
    "execution": {
     "iopub.execute_input": "2023-12-20T23:56:10.242380Z",
     "iopub.status.busy": "2023-12-20T23:56:10.242039Z",
     "iopub.status.idle": "2023-12-20T23:56:10.420545Z",
     "shell.execute_reply": "2023-12-20T23:56:10.419715Z"
    },
    "papermill": {
     "duration": 0.256217,
     "end_time": "2023-12-20T23:56:10.422471",
     "exception": false,
     "start_time": "2023-12-20T23:56:10.166254",
     "status": "completed"
    },
    "tags": []
   },
   "outputs": [],
   "source": [
    "import gc\n",
    "gc.collect()\n",
    "torch.cuda.empty_cache()"
   ]
  },
  {
   "cell_type": "code",
   "execution_count": 47,
   "id": "2a6464b7",
   "metadata": {
    "execution": {
     "iopub.execute_input": "2023-12-20T23:56:10.573238Z",
     "iopub.status.busy": "2023-12-20T23:56:10.572852Z",
     "iopub.status.idle": "2023-12-20T23:56:13.748997Z",
     "shell.execute_reply": "2023-12-20T23:56:13.748153Z"
    },
    "papermill": {
     "duration": 3.253576,
     "end_time": "2023-12-20T23:56:13.751369",
     "exception": false,
     "start_time": "2023-12-20T23:56:10.497793",
     "status": "completed"
    },
    "tags": []
   },
   "outputs": [
    {
     "name": "stderr",
     "output_type": "stream",
     "text": [
      "Using a target size (torch.Size([33000])) that is different to the input size (torch.Size([33000, 1])). This will likely lead to incorrect results due to broadcasting. Please ensure they have the same size.\n"
     ]
    }
   ],
   "source": [
    "final_loss = loss_fn(y_final_test_pred.cpu(), y_final_test_torch.cpu())"
   ]
  },
  {
   "cell_type": "code",
   "execution_count": 48,
   "id": "7f969ab0",
   "metadata": {
    "execution": {
     "iopub.execute_input": "2023-12-20T23:56:13.903897Z",
     "iopub.status.busy": "2023-12-20T23:56:13.903524Z",
     "iopub.status.idle": "2023-12-20T23:56:13.950472Z",
     "shell.execute_reply": "2023-12-20T23:56:13.949642Z"
    },
    "papermill": {
     "duration": 0.126183,
     "end_time": "2023-12-20T23:56:13.952682",
     "exception": false,
     "start_time": "2023-12-20T23:56:13.826499",
     "status": "completed"
    },
    "tags": []
   },
   "outputs": [
    {
     "data": {
      "text/plain": [
       "tensor(5.3912, grad_fn=<MeanBackward0>)"
      ]
     },
     "execution_count": 48,
     "metadata": {},
     "output_type": "execute_result"
    }
   ],
   "source": [
    "final_loss"
   ]
  }
 ],
 "metadata": {
  "kaggle": {
   "accelerator": "nvidiaTeslaT4",
   "dataSources": [
    {
     "databundleVersionId": 7056235,
     "sourceId": 57891,
     "sourceType": "competition"
    }
   ],
   "dockerImageVersionId": 30579,
   "isGpuEnabled": true,
   "isInternetEnabled": false,
   "language": "python",
   "sourceType": "notebook"
  },
  "kernelspec": {
   "display_name": "Python 3",
   "language": "python",
   "name": "python3"
  },
  "language_info": {
   "codemirror_mode": {
    "name": "ipython",
    "version": 3
   },
   "file_extension": ".py",
   "mimetype": "text/x-python",
   "name": "python",
   "nbconvert_exporter": "python",
   "pygments_lexer": "ipython3",
   "version": "3.9.4"
  },
  "papermill": {
   "default_parameters": {},
   "duration": 612.864004,
   "end_time": "2023-12-20T23:56:21.496554",
   "environment_variables": {},
   "exception": null,
   "input_path": "__notebook__.ipynb",
   "output_path": "__notebook__.ipynb",
   "parameters": {},
   "start_time": "2023-12-20T23:46:08.632550",
   "version": "2.4.0"
  }
 },
 "nbformat": 4,
 "nbformat_minor": 5
}
